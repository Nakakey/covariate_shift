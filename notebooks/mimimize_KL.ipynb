{
 "cells": [
  {
   "cell_type": "markdown",
   "metadata": {},
   "source": [
    "# weighting sample by minimize KL via Information Estimator"
   ]
  },
  {
   "cell_type": "code",
   "execution_count": 2,
   "metadata": {},
   "outputs": [],
   "source": [
    "import numpy as np\n",
    "import pandas as pd\n",
    "import os\n",
    "import matplotlib.pyplot as plt\n",
    "%matplotlib inline"
   ]
  },
  {
   "cell_type": "code",
   "execution_count": 3,
   "metadata": {},
   "outputs": [],
   "source": [
    "from scipy.spatial import distance"
   ]
  },
  {
   "cell_type": "code",
   "execution_count": 4,
   "metadata": {},
   "outputs": [],
   "source": [
    "np.random.seed(123)\n",
    "x = np.random.multivariate_normal(mean = [0,0], cov = [[1,0],[0,1]], size = 100)\n",
    "y = np.random.multivariate_normal(mean = [1.5,1.5], cov = [[1,0],[0,1]], size = 100)"
   ]
  },
  {
   "cell_type": "code",
   "execution_count": 11,
   "metadata": {},
   "outputs": [
    {
     "data": {
      "text/plain": [
       "[<matplotlib.lines.Line2D at 0x108323a58>]"
      ]
     },
     "execution_count": 11,
     "metadata": {},
     "output_type": "execute_result"
    },
    {
     "data": {
      "image/png": "[encoded data removed]",
      "text/plain": [
       "<matplotlib.figure.Figure at 0x108508940>"
      ]
     },
     "metadata": {},
     "output_type": "display_data"
    }
   ],
   "source": [
    "plt.figure(figsize=(6,3))\n",
    "plt.plot(x[:,0],x[:,1], 'o' )\n",
    "plt.plot(y[:,0],y[:,1], 'o' )"
   ]
  },
  {
   "cell_type": "code",
   "execution_count": 16,
   "metadata": {},
   "outputs": [
    {
     "data": {
      "text/plain": [
       "(100, 2)"
      ]
     },
     "execution_count": 16,
     "metadata": {},
     "output_type": "execute_result"
    }
   ],
   "source": [
    "x.shape"
   ]
  },
  {
   "cell_type": "markdown",
   "metadata": {},
   "source": [
    "## make objective vector\n",
    "データ点$i = 1$に注目した時の目的関数\n",
    "$\\sum_{i=1,i\\neq1}\\left( \\frac{w_i}{(1-w_1)^2}+\\frac{w_i}{1-w_i}\\log||x_1-x_j|| \\right) - \\sum_{j=1}\\log||x_1 -y_j||$"
   ]
  },
  {
   "cell_type": "markdown",
   "metadata": {},
   "source": [
    "### internal log component\n",
    "$\\sum_{i=1,i\\neq1}\\log||x_1-x_j|| $\n",
    "\n",
    "距離行列を計算する & $\\Sigma\\log$(各データ点間の距離)をとるので、対角成分は0にする"
   ]
  },
  {
   "cell_type": "code",
   "execution_count": 90,
   "metadata": {},
   "outputs": [],
   "source": [
    "data_num = x.shape[0]\n",
    "# make dist matrix\n",
    "dist_mat_x =distance.cdist(x, x)\n",
    "# set diagnal component as 0\n",
    "dist_mat_x[([i for i in range(data_num)], [i for i in range(data_num)])] = 1\n",
    "log_mat_x = np.log(dist_mat_x)"
   ]
  },
  {
   "cell_type": "markdown",
   "metadata": {},
   "source": [
    "### weight component\n",
    "$\\sum_{i=1,i\\neq1}\\frac{w_i}{(1-w_1)^2}+\\frac{w_i}{1-w_i}$\n",
    "\n",
    "この部分を毎回更新する"
   ]
  },
  {
   "cell_type": "code",
   "execution_count": 91,
   "metadata": {},
   "outputs": [],
   "source": [
    "# initialize weight vector\n",
    "weight = np.random.uniform(size = data_num)\n",
    "weight/= np.sum(weight)"
   ]
  },
  {
   "cell_type": "code",
   "execution_count": 152,
   "metadata": {},
   "outputs": [],
   "source": [
    "# left component\n",
    "## numeraters matrix\n",
    "le_numeras_tile = np.tile(weight, (data_num, 1))\n",
    "# denominators matrix\n",
    "le_denoms = (1 - weight)**2\n",
    "le_denoms_tile = np.tile(le_denoms, (data_num, 1)).T\n",
    "# left_component matrix\n",
    "mat_le = (le_numeras_tile / le_denoms_tile)\n",
    "\n",
    "# right component\n",
    "ri = 1/((1 / weight) - 1)\n",
    "mat_ri = np.tile(ri, (data_num,1)).T\n",
    "\n",
    "mat_first = mat_le + mat_ri"
   ]
  },
  {
   "cell_type": "code",
   "execution_count": 171,
   "metadata": {},
   "outputs": [
    {
     "data": {
      "text/plain": [
       "array([[0.03267257, 0.03504538, 0.02036433, ..., 0.02916203, 0.02540232,\n",
       "        0.02235234],\n",
       "       [0.03512811, 0.03751203, 0.02276218, ..., 0.03160111, 0.02782378,\n",
       "        0.02475951],\n",
       "       [0.02011984, 0.0224362 , 0.00810442, ..., 0.01669282, 0.01302255,\n",
       "        0.01004514],\n",
       "       ...,\n",
       "       [0.02906093, 0.03141742, 0.01683728, ..., 0.02557451, 0.02184064,\n",
       "        0.01881163],\n",
       "       [0.02522084, 0.02756005, 0.01308683, ..., 0.02175999, 0.0180535 ,\n",
       "        0.01504671],\n",
       "       [0.02212665, 0.02445198, 0.01006464, ..., 0.01868634, 0.01500184,\n",
       "        0.01201288]])"
      ]
     },
     "execution_count": 171,
     "metadata": {},
     "output_type": "execute_result"
    }
   ],
   "source": [
    "mat_first"
   ]
  },
  {
   "cell_type": "markdown",
   "metadata": {},
   "source": [
    "重み成分とデータ点間の距離の積\n",
    "\n",
    "→行列演算の形で"
   ]
  },
  {
   "cell_type": "code",
   "execution_count": 157,
   "metadata": {},
   "outputs": [],
   "source": [
    "entropy = np.diag(np.dot(mat_first, log_mat_x))"
   ]
  },
  {
   "cell_type": "markdown",
   "metadata": {},
   "source": [
    "### outer log component\n",
    "$\\sum_{j=1}\\log||x_1-y_j|| $"
   ]
  },
  {
   "cell_type": "code",
   "execution_count": 172,
   "metadata": {},
   "outputs": [],
   "source": [
    "# constant value !\n",
    "#calculate  only once\n",
    "dist_mat_xy = distance.cdist(x, y)\n",
    "log_mat_xy = np.log(dist_mat_xy)\n",
    "CE = np.sum(log_mat_xy, axis = 1) / data_num"
   ]
  },
  {
   "cell_type": "code",
   "execution_count": 173,
   "metadata": {},
   "outputs": [],
   "source": [
    "grad = entropy - CE"
   ]
  },
  {
   "cell_type": "code",
   "execution_count": 218,
   "metadata": {},
   "outputs": [],
   "source": [
    "def cal_MKLW(train, test, rep = 10000, lr = 1e-5):\n",
    "    \"\"\"Calculate optimal weights of training data to minimize KL between train and test\n",
    "\n",
    "    # Arguments:\n",
    "        train(np.ndarray): train data assigned to weights(n_data, n_dim)\n",
    "        test(np.ndarray): test data we do not use for training\n",
    "        rep(int): maximum repeat number of maximum gradient method\n",
    "        lr(int): leraning rate of gradient method\n",
    "    \"\"\"\n",
    "    \n",
    "    data_num = train.shape[0]\n",
    "    \n",
    "    # CE component\n",
    "        # This is constant value !\n",
    "        #calculate  only once!\n",
    "    dist_mat_xy = distance.cdist(x, y)\n",
    "    log_mat_xy = np.log(dist_mat_xy)\n",
    "    CE = np.sum(log_mat_xy, axis = 1) / data_num\n",
    "\n",
    "    # Self-entropy component\n",
    "        # internal log component\n",
    "    # make dist matrix of train\n",
    "    dist_mat_train =distance.cdist(train, train)\n",
    "    # set diagnal component as 0\n",
    "    dist_mat_train[([i for i in range(data_num)], [i for i in range(data_num)])] = 1\n",
    "    log_mat_train = np.log(dist_mat_train)\n",
    "    \n",
    "    \n",
    "        # weight component\n",
    "    # initialize weight vector\n",
    "    weight = np.random.uniform(size = data_num)\n",
    "    weight/= np.sum(weight)\n",
    "    \n",
    "    for i in range(rep):\n",
    "            # left component\n",
    "    ## numeraters matrix\n",
    "        le_numeras_tile = np.tile(weight, (data_num, 1))\n",
    "            # denominators matrix\n",
    "        le_denoms = (1 - weight)**2\n",
    "        le_denoms_tile = np.tile(le_denoms, (data_num, 1)).T\n",
    "            # left_component matrix\n",
    "        mat_le = (le_numeras_tile / le_denoms_tile)\n",
    "\n",
    "            # right component\n",
    "        ri = 1/((1 / weight) - 1)\n",
    "        mat_ri = np.tile(ri, (data_num,1)).T\n",
    "        # sum of left and right\n",
    "        mat_first = mat_le + mat_ri\n",
    "        #self-entropy\n",
    "        entropy = np.diag(np.dot(mat_first, log_mat_x))\n",
    "        weight -= lr * (entropy - CE)\n",
    "        weight /=weight.sum()\n",
    "    return(weight)"
   ]
  },
  {
   "cell_type": "code",
   "execution_count": 222,
   "metadata": {},
   "outputs": [],
   "source": [
    "res = cal_MKLW(x,y, rep = 1000000)"
   ]
  },
  {
   "cell_type": "code",
   "execution_count": 223,
   "metadata": {},
   "outputs": [
    {
     "data": {
      "text/plain": [
       "array([ 5.08174756e-03,  1.20636173e-02, -9.14719792e-04,  5.38224293e-03,\n",
       "        6.13122191e-03,  2.46969431e-02,  3.13995274e-03,  2.70698640e-02,\n",
       "       -7.05412735e-03, -1.92390631e-03, -8.49725423e-03,  3.46931721e-03,\n",
       "        1.32584053e-02,  8.28796341e-03,  2.13456392e-02,  5.35051077e-03,\n",
       "        8.65221511e-03,  6.40534505e-03,  6.12352046e-03,  1.75359794e-02,\n",
       "        1.02960284e-02,  1.24252605e-02,  2.05595139e-02, -5.49869533e-03,\n",
       "       -8.01146321e-03,  1.16271125e-02,  1.84460869e-03, -1.02345900e-03,\n",
       "       -8.85255979e-03, -9.30649005e-03,  7.80539864e-03,  1.34512836e-02,\n",
       "       -8.10230676e-03,  3.76664744e-02,  1.29181729e-02,  1.76656292e-02,\n",
       "        7.22188254e-03,  3.27008777e-03,  3.19253124e-02,  1.11264280e-02,\n",
       "        5.74573171e-03, -8.18487931e-03,  1.77960381e-02,  1.47489337e-02,\n",
       "       -4.36729081e-03,  6.99539766e-03, -3.27818384e-03,  2.53807037e-03,\n",
       "        1.15513407e-02,  2.40027668e-02,  7.09336784e-03, -6.17103015e-03,\n",
       "        2.89181914e-02,  9.27076183e-03,  1.05350881e-02,  8.69888004e-04,\n",
       "        1.39525786e-02, -7.25102624e-04,  1.22824966e-02,  2.27858673e-03,\n",
       "        2.69435384e-02,  3.32390626e-03, -2.74987297e-05, -1.29778511e-03,\n",
       "        2.12522159e-02,  1.38362248e-02,  1.83300510e-02,  1.91548193e-03,\n",
       "       -1.59691306e-03,  1.22349379e-03,  2.11274598e-02, -3.44958747e-03,\n",
       "        1.64784954e-02, -7.18179953e-03,  2.66073461e-02,  1.24116881e-02,\n",
       "        7.38811205e-03,  1.65040573e-02,  1.91215172e-02,  5.66456609e-04,\n",
       "        3.70870148e-02,  4.04790290e-03,  1.38955412e-02,  4.03672842e-03,\n",
       "        3.53953389e-02,  1.69207743e-02,  2.31428741e-02, -6.59844457e-03,\n",
       "        2.33528809e-02,  2.62494192e-02, -4.24025190e-03,  2.30907549e-03,\n",
       "        6.14588517e-03,  1.81955746e-02,  1.75639766e-02,  2.78185955e-02,\n",
       "        2.99661919e-02,  3.98960477e-03,  3.37752986e-02,  3.30041101e-02])"
      ]
     },
     "execution_count": 223,
     "metadata": {},
     "output_type": "execute_result"
    }
   ],
   "source": [
    "res"
   ]
  },
  {
   "cell_type": "code",
   "execution_count": 229,
   "metadata": {},
   "outputs": [
    {
     "name": "stderr",
     "output_type": "stream",
     "text": [
      "/home/lab/nakakei/.pyenv/versions/3.6.5/envs/env_mac/lib/python3.6/site-packages/matplotlib/collections.py:853: RuntimeWarning: invalid value encountered in sqrt\n",
      "  scale = np.sqrt(self._sizes) * dpi / 72.0 * self._factor\n"
     ]
    },
    {
     "data": {
      "text/plain": [
       "[<matplotlib.lines.Line2D at 0x10e85b400>]"
      ]
     },
     "execution_count": 229,
     "metadata": {},
     "output_type": "execute_result"
    },
    {
     "data": {
      "image/png": "[encoded data removed]",
      "text/plain": [
       "<matplotlib.figure.Figure at 0x10e2fed68>"
      ]
     },
     "metadata": {},
     "output_type": "display_data"
    }
   ],
   "source": [
    "plt.figure(figsize = (15,4))\n",
    "plt.subplot(1,2,1)\n",
    "plt.scatter(x[:,0], x[:,1])\n",
    "plt.plot(y[:,0], y[:,1], 'ro')\n",
    "plt.subplot(1,2,2)\n",
    "plt.scatter(x[:,0], x[:,1], s = res*10000)\n",
    "plt.plot(y[:,0], y[:,1], 'ro')"
   ]
  }
 ],
 "metadata": {
  "kernelspec": {
   "display_name": "Python 3",
   "language": "python",
   "name": "python3"
  },
  "language_info": {
   "codemirror_mode": {
    "name": "ipython",
    "version": 3
   },
   "file_extension": ".py",
   "mimetype": "text/x-python",
   "name": "python",
   "nbconvert_exporter": "python",
   "pygments_lexer": "ipython3",
   "version": "3.6.5"
  },
  "toc": {
   "base_numbering": 1,
   "nav_menu": {},
   "number_sections": true,
   "sideBar": true,
   "skip_h1_title": false,
   "title_cell": "Table of Contents",
   "title_sidebar": "Contents",
   "toc_cell": false,
   "toc_position": {},
   "toc_section_display": true,
   "toc_window_display": false
  },
  "varInspector": {
   "cols": {
    "lenName": 16,
    "lenType": 16,
    "lenVar": 40
   },
   "kernels_config": {
    "python": {
     "delete_cmd_postfix": "",
     "delete_cmd_prefix": "del ",
     "library": "var_list.py",
     "varRefreshCmd": "print(var_dic_list())"
    },
    "r": {
     "delete_cmd_postfix": ") ",
     "delete_cmd_prefix": "rm(",
     "library": "var_list.r",
     "varRefreshCmd": "cat(var_dic_list()) "
    }
   },
   "types_to_exclude": [
    "module",
    "function",
    "builtin_function_or_method",
    "instance",
    "_Feature"
   ],
   "window_display": false
  }
 },
 "nbformat": 4,
 "nbformat_minor": 2
}
