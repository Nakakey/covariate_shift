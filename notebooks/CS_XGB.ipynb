{
 "cells": [
  {
   "cell_type": "markdown",
   "metadata": {},
   "source": [
    "# sharing bike data set でのcovariate shift実験"
   ]
  },
  {
   "cell_type": "markdown",
   "metadata": {},
   "source": [
    "## data loding"
   ]
  },
  {
   "cell_type": "code",
   "execution_count": 140,
   "metadata": {},
   "outputs": [],
   "source": [
    "import autopep8\n",
    "import numpy as np\n",
    "import pandas as pd\n",
    "import os\n",
    "import matplotlib.pyplot as plt\n",
    "from scipy.spatial import distance\n",
    "%matplotlib inline"
   ]
  },
  {
   "cell_type": "code",
   "execution_count": 141,
   "metadata": {},
   "outputs": [],
   "source": [
    "hour = pd.read_csv('../Bike-Sharing-Dataset/hour.csv')\n",
    "day = pd.read_csv('../Bike-Sharing-Dataset/day.csv')"
   ]
  },
  {
   "cell_type": "code",
   "execution_count": 142,
   "metadata": {},
   "outputs": [
    {
     "data": {
      "text/plain": [
       "[(17379, 17), (731, 16)]"
      ]
     },
     "execution_count": 142,
     "metadata": {},
     "output_type": "execute_result"
    }
   ],
   "source": [
    "[hour.shape, day.shape]"
   ]
  },
  {
   "cell_type": "markdown",
   "metadata": {},
   "source": [
    "#  データセットを4つに分類\n",
    "季節ごとにデータセットを分類"
   ]
  },
  {
   "cell_type": "code",
   "execution_count": 143,
   "metadata": {},
   "outputs": [],
   "source": [
    "from sklearn.preprocessing import scale\n",
    "import datetime"
   ]
  },
  {
   "cell_type": "code",
   "execution_count": 144,
   "metadata": {},
   "outputs": [],
   "source": [
    "# datetime型に変換、正規化実行\n",
    "hour[['temp', 'atemp', 'hum', 'windspeed']] = scale(hour[['temp', 'atemp', 'hum', 'windspeed']])\n",
    "\n",
    "# お天気変数をダミー変数化 & 正規化\n",
    "hour = pd.concat([hour, pd.get_dummies(hour_2['weathersit'], prefix='weather',drop_first = True)], axis= 1)\n",
    "hour['dteday'] = hour['dteday'].apply(lambda x : datetime.datetime.strptime(x, '%Y-%m-%d'))"
   ]
  },
  {
   "cell_type": "code",
   "execution_count": 145,
   "metadata": {
    "collapsed": true
   },
   "outputs": [
    {
     "name": "stderr",
     "output_type": "stream",
     "text": [
      "/home/lab/nakakei/.pyenv/versions/3.6.4/envs/env_linux/lib/python3.6/site-packages/ipykernel_launcher.py:2: FutureWarning: Comparing Series of datetimes with 'datetime.date'.  Currently, the\n",
      "'datetime.date' is coerced to a datetime. In the future pandas will\n",
      "not coerce, and a TypeError will be raised. To retain the current\n",
      "behavior, convert the 'datetime.date' to a datetime with\n",
      "'pd.Timestamp'.\n",
      "  \n",
      "/home/lab/nakakei/.pyenv/versions/3.6.4/envs/env_linux/lib/python3.6/site-packages/ipykernel_launcher.py:4: FutureWarning: Comparing Series of datetimes with 'datetime.date'.  Currently, the\n",
      "'datetime.date' is coerced to a datetime. In the future pandas will\n",
      "not coerce, and a TypeError will be raised. To retain the current\n",
      "behavior, convert the 'datetime.date' to a datetime with\n",
      "'pd.Timestamp'.\n",
      "  after removing the cwd from sys.path.\n",
      "/home/lab/nakakei/.pyenv/versions/3.6.4/envs/env_linux/lib/python3.6/site-packages/ipykernel_launcher.py:6: FutureWarning: Comparing Series of datetimes with 'datetime.date'.  Currently, the\n",
      "'datetime.date' is coerced to a datetime. In the future pandas will\n",
      "not coerce, and a TypeError will be raised. To retain the current\n",
      "behavior, convert the 'datetime.date' to a datetime with\n",
      "'pd.Timestamp'.\n",
      "  \n",
      "/home/lab/nakakei/.pyenv/versions/3.6.4/envs/env_linux/lib/python3.6/site-packages/ipykernel_launcher.py:8: FutureWarning: Comparing Series of datetimes with 'datetime.date'.  Currently, the\n",
      "'datetime.date' is coerced to a datetime. In the future pandas will\n",
      "not coerce, and a TypeError will be raised. To retain the current\n",
      "behavior, convert the 'datetime.date' to a datetime with\n",
      "'pd.Timestamp'.\n",
      "  \n"
     ]
    }
   ],
   "source": [
    "# 季節ごとにデータセットを分割\n",
    "spring_11 = hour.loc[(hour['dteday'] < datetime.date(2011, 6, 1))]\n",
    "\n",
    "fall_11 = hour[(hour['dteday'] > datetime.date(2011, 6, 30)) & (hour['dteday'] < datetime.date(2011, 10, 1))]\n",
    "\n",
    "spring_12 = hour[(hour['dteday'] < datetime.date(2012, 4, 1)) & (hour['dteday'] > datetime.date(2011, 12, 31))]\n",
    "\n",
    "fall_12 = hour[(hour['dteday'] > datetime.date(2012, 6, 30))&(hour['dteday'] < datetime.date(2012, 10, 1))]"
   ]
  },
  {
   "cell_type": "markdown",
   "metadata": {},
   "source": [
    "## 共変量の分布"
   ]
  },
  {
   "cell_type": "code",
   "execution_count": 161,
   "metadata": {},
   "outputs": [
    {
     "data": {
      "image/png": "[encoded data removed]",
      "text/plain": [
       "<matplotlib.figure.Figure at 0x7f30bb5fed30>"
      ]
     },
     "metadata": {},
     "output_type": "display_data"
    }
   ],
   "source": [
    "plt.figure(figsize = (12,6))\n",
    "plt.subplot(1,3,1)\n",
    "spring_11['temp'].hist(alpha = 0.5, label = 'spring11', density=True)\n",
    "fall_11['temp'].hist(alpha = 0.5, label = 'fall12', density = True)\n",
    "plt.ylim(0,1)\n",
    "plt.legend()\n",
    "\n",
    "plt.subplot(1,3,2)\n",
    "spring_11['temp'].hist(alpha = 0.5, label = 'spring11', density = True)\n",
    "spring_12['temp'].hist(alpha = 0.5, label = 'spring12', density = True)\n",
    "plt.ylim(0,1)\n",
    "plt.legend()\n",
    "\n",
    "plt.subplot(1,3,3)\n",
    "spring_11['temp'].hist(alpha = 0.5, label = 'spring11', density = True)\n",
    "fall_12['temp'].hist(alpha = 0.5, label = 'fall12', density = True)\n",
    "plt.ylim(0,1)\n",
    "plt.legend()\n",
    "plt.savefig('covariate_temp.pdf')"
   ]
  },
  {
   "cell_type": "code",
   "execution_count": 162,
   "metadata": {},
   "outputs": [
    {
     "data": {
      "image/png": "[encoded data removed]",
      "text/plain": [
       "<matplotlib.figure.Figure at 0x7f30ba40bf98>"
      ]
     },
     "metadata": {},
     "output_type": "display_data"
    }
   ],
   "source": [
    "plt.figure(figsize = (12,6))\n",
    "plt.subplot(1,3,1)\n",
    "spring_11['atemp'].hist(alpha = 0.5, label = 'spring11', density = True)\n",
    "fall_11['atemp'].hist(alpha = 0.5, label = 'fall12', density = True)\n",
    "plt.ylim(0,1)\n",
    "plt.legend()\n",
    "\n",
    "plt.subplot(1,3,2)\n",
    "spring_11['atemp'].hist(alpha = 0.5, label = 'spring11', density = True)\n",
    "spring_12['atemp'].hist(alpha = 0.5, label = 'spring12', density = True)\n",
    "plt.ylim(0,1)\n",
    "plt.legend()\n",
    "\n",
    "plt.subplot(1,3,3)\n",
    "spring_11['atemp'].hist(alpha = 0.5, label = 'spring11', density = True)\n",
    "fall_12['atemp'].hist(alpha = 0.5, label = 'fall12', density = True)\n",
    "plt.ylim(0,1)\n",
    "plt.legend()\n",
    "plt.savefig('covariate_atemp.pdf')"
   ]
  },
  {
   "cell_type": "code",
   "execution_count": 163,
   "metadata": {},
   "outputs": [
    {
     "data": {
      "image/png": "[encoded data removed]",
      "text/plain": [
       "<matplotlib.figure.Figure at 0x7f30ba29ef60>"
      ]
     },
     "metadata": {},
     "output_type": "display_data"
    }
   ],
   "source": [
    "plt.figure(figsize = (12,6))\n",
    "plt.subplot(1,3,1)\n",
    "spring_11['hum'].hist(alpha = 0.5, label = 'spring11', density = True)\n",
    "fall_11['hum'].hist(alpha = 0.5, label = 'fall12', density = True)\n",
    "plt.ylim(0,1)\n",
    "plt.legend()\n",
    "\n",
    "plt.subplot(1,3,2)\n",
    "spring_11['hum'].hist(alpha = 0.5, label = 'spring11', density = True)\n",
    "spring_12['hum'].hist(alpha = 0.5, label = 'spring12', density = True)\n",
    "plt.ylim(0,1)\n",
    "plt.legend()\n",
    "\n",
    "plt.subplot(1,3,3)\n",
    "spring_11['hum'].hist(alpha = 0.5, label = 'spring11', density = True)\n",
    "fall_12['hum'].hist(alpha = 0.5, label = 'fall12', density = True)\n",
    "plt.ylim(0,1)\n",
    "plt.legend()\n",
    "plt.savefig('covariate_hum.pdf')"
   ]
  },
  {
   "cell_type": "code",
   "execution_count": 164,
   "metadata": {},
   "outputs": [
    {
     "data": {
      "image/png": "[encoded data removed]",
      "text/plain": [
       "<matplotlib.figure.Figure at 0x7f30ba104e10>"
      ]
     },
     "metadata": {},
     "output_type": "display_data"
    }
   ],
   "source": [
    "plt.figure(figsize = (12,6))\n",
    "plt.subplot(1,3,1)\n",
    "spring_11['windspeed'].hist(alpha = 0.5, label = 'spring11', density = True)\n",
    "fall_11['windspeed'].hist(alpha = 0.5, label = 'fall12', density = True)\n",
    "plt.ylim(0,1)\n",
    "plt.legend()\n",
    "\n",
    "plt.subplot(1,3,2)\n",
    "spring_11['windspeed'].hist(alpha = 0.5, label = 'spring11', density = True)\n",
    "spring_12['windspeed'].hist(alpha = 0.5, label = 'spring12', density =True)\n",
    "plt.ylim(0,1)\n",
    "plt.legend()\n",
    "\n",
    "plt.subplot(1,3,3)\n",
    "spring_11['windspeed'].hist(alpha = 0.5, label = 'spring11', density= True)\n",
    "fall_12['windspeed'].hist(alpha = 0.5, label = 'fall12', density = True)\n",
    "plt.ylim(0,1)\n",
    "plt.legend()\n",
    "plt.savefig('covariate_windspeed.pdf')"
   ]
  },
  {
   "cell_type": "code",
   "execution_count": 165,
   "metadata": {},
   "outputs": [
    {
     "data": {
      "image/png": "[encoded data removed]",
      "text/plain": [
       "<matplotlib.figure.Figure at 0x7f30b9f4e358>"
      ]
     },
     "metadata": {},
     "output_type": "display_data"
    }
   ],
   "source": [
    "plt.figure(figsize = (12,6))\n",
    "plt.subplot(1,3,1)\n",
    "spring_11['cnt'].hist(alpha = 0.5, label = 'spring11', density = True)\n",
    "fall_11['cnt'].hist(alpha = 0.5, label = 'fall12', density = True)\n",
    "plt.legend()\n",
    "\n",
    "plt.subplot(1,3,2)\n",
    "spring_11['cnt'].hist(alpha = 0.5, label = 'spring11', density = True)\n",
    "spring_12['cnt'].hist(alpha = 0.5, label = 'spring12', density = True)\n",
    "plt.legend()\n",
    "\n",
    "plt.subplot(1,3,3)\n",
    "spring_11['cnt'].hist(alpha = 0.5, label = 'spring11', density = True)\n",
    "fall_12['cnt'].hist(alpha = 0.5, label = 'fall12', density = True)\n",
    "plt.legend()\n",
    "plt.savefig('dist_cnt.pdf')"
   ]
  },
  {
   "cell_type": "markdown",
   "metadata": {},
   "source": [
    "# 学習 by XGboost"
   ]
  },
  {
   "cell_type": "code",
   "execution_count": 166,
   "metadata": {},
   "outputs": [],
   "source": [
    "import xgboost as xgb\n",
    "from sklearn.metrics import accuracy_score"
   ]
  },
  {
   "cell_type": "markdown",
   "metadata": {},
   "source": [
    "## 重みなしの学習(num_round =20)"
   ]
  },
  {
   "cell_type": "code",
   "execution_count": 167,
   "metadata": {},
   "outputs": [],
   "source": [
    "num_core = 2\n",
    "dtrain = xgb.DMatrix(\n",
    "    spring_11[['temp', 'atemp', 'hum', 'windspeed']], spring_11['cnt'])\n",
    "dtest1 = xgb.DMatrix(fall_11[['temp', 'atemp', 'hum', 'windspeed']], fall_11['cnt'])\n",
    "dtest2 = xgb.DMatrix(spring_12[['temp', 'atemp', 'hum', 'windspeed']], spring_12['cnt'])\n",
    "dtest3 = xgb.DMatrix(fall_12[['temp', 'atemp', 'hum', 'windspeed']], fall_12['cnt'])\n",
    "\n",
    "watchlist = [(dtrain, 'train')]\n",
    "param = {'max_depth': 6, 'eta': 0.2, 'lambda':1,\n",
    "         'silent': 0, 'nthread': num_core,\n",
    "         'objective': 'reg:linear', 'booster': 'gbtree'}\n",
    "num_round = 20\n",
    "non_weight = xgb.train(param, dtrain, num_round)"
   ]
  },
  {
   "cell_type": "code",
   "execution_count": 156,
   "metadata": {},
   "outputs": [
    {
     "name": "stdout",
     "output_type": "stream",
     "text": [
      "train error: 51.610783\n",
      "test_1 error: 119.87656\n",
      "test_2 error: 106.72612\n",
      "test_3 error: 165.53015\n"
     ]
    }
   ],
   "source": [
    "print('train error:', np.sqrt((non_weight.predict(dtrain) - dtrain.get_label())**2).mean())\n",
    "print('test_1 error:', np.sqrt((non_weight.predict(dtest1) - dtest1.get_label())**2).mean())\n",
    "print('test_2 error:', np.sqrt((non_weight.predict(dtest2) - dtest2.get_label())**2).mean())\n",
    "print('test_3 error:', np.sqrt((non_weight.predict(dtest3) - dtest3.get_label())**2).mean())"
   ]
  },
  {
   "cell_type": "markdown",
   "metadata": {},
   "source": [
    "## 重みなしの学習(num_round =100)"
   ]
  },
  {
   "cell_type": "code",
   "execution_count": 157,
   "metadata": {},
   "outputs": [],
   "source": [
    "num_core = 2\n",
    "dtrain = xgb.DMatrix(\n",
    "    spring_11[['temp', 'atemp', 'hum', 'windspeed']], spring_11['cnt'])\n",
    "dtest1 = xgb.DMatrix(fall_11[['temp', 'atemp', 'hum', 'windspeed']], fall_11['cnt'])\n",
    "dtest2 = xgb.DMatrix(spring_12[['temp', 'atemp', 'hum', 'windspeed']], spring_12['cnt'])\n",
    "dtest3 = xgb.DMatrix(fall_12[['temp', 'atemp', 'hum', 'windspeed']], fall_12['cnt'])\n",
    "\n",
    "watchlist = [(dtrain, 'train')]\n",
    "param = {'max_depth': 6, 'eta': 0.2, 'lambda':1,\n",
    "         'silent': 0, 'nthread': num_core,\n",
    "         'objective': 'reg:linear', 'booster': 'gbtree'}\n",
    "num_round = 100\n",
    "non_weight = xgb.train(param, dtrain, num_round)"
   ]
  },
  {
   "cell_type": "code",
   "execution_count": 158,
   "metadata": {},
   "outputs": [
    {
     "name": "stdout",
     "output_type": "stream",
     "text": [
      "train error: 41.659313\n",
      "test_1 error: 126.99444\n",
      "test_2 error: 107.917366\n",
      "test_3 error: 170.41292\n"
     ]
    }
   ],
   "source": [
    "print('train error:', np.sqrt((non_weight.predict(dtrain) - dtrain.get_label())**2).mean())\n",
    "print('test_1 error:', np.sqrt((non_weight.predict(dtest1) - dtest1.get_label())**2).mean())\n",
    "print('test_2 error:', np.sqrt((non_weight.predict(dtest2) - dtest2.get_label())**2).mean())\n",
    "print('test_3 error:', np.sqrt((non_weight.predict(dtest3) - dtest3.get_label())**2).mean())"
   ]
  },
  {
   "cell_type": "markdown",
   "metadata": {},
   "source": [
    "## 重みなしの学習(num_round =300)"
   ]
  },
  {
   "cell_type": "code",
   "execution_count": 324,
   "metadata": {},
   "outputs": [],
   "source": [
    "num_core = 2\n",
    "dtrain = xgb.DMatrix(\n",
    "    spring_11[['temp', 'atemp', 'hum', 'windspeed']], spring_11['cnt'])\n",
    "dtest1 = xgb.DMatrix(fall_11[['temp', 'atemp', 'hum', 'windspeed']], fall_11['cnt'])\n",
    "dtest2 = xgb.DMatrix(spring_12[['temp', 'atemp', 'hum', 'windspeed']], spring_12['cnt'])\n",
    "dtest3 = xgb.DMatrix(fall_12[['temp', 'atemp', 'hum', 'windspeed']], fall_12['cnt'])\n",
    "\n",
    "watchlist = [(dtrain, 'train')]\n",
    "param = {'max_depth': 6, 'eta': 0.2, 'lambda':1,\n",
    "         'silent': 0, 'nthread': num_core,\n",
    "         'objective': 'reg:linear', 'booster': 'gbtree'}\n",
    "num_round = 300\n",
    "non_weight = xgb.train(param, dtrain, num_round)"
   ]
  },
  {
   "cell_type": "code",
   "execution_count": 325,
   "metadata": {},
   "outputs": [
    {
     "name": "stdout",
     "output_type": "stream",
     "text": [
      "train error: 30.661442\n",
      "test_1 error: 132.55879\n",
      "test_2 error: 111.60272\n",
      "test_3 error: 176.33792\n"
     ]
    }
   ],
   "source": [
    "print('train error:', np.sqrt((non_weight.predict(dtrain) - dtrain.get_label())**2).mean())\n",
    "print('test_1 error:', np.sqrt((non_weight.predict(dtest1) - dtest1.get_label())**2).mean())\n",
    "print('test_2 error:', np.sqrt((non_weight.predict(dtest2) - dtest2.get_label())**2).mean())\n",
    "print('test_3 error:', np.sqrt((non_weight.predict(dtest3) - dtest3.get_label())**2).mean())"
   ]
  },
  {
   "cell_type": "markdown",
   "metadata": {},
   "source": [
    "## Ru_LSIFによる重み付け(num_round = 300)"
   ]
  },
  {
   "cell_type": "markdown",
   "metadata": {},
   "source": [
    "### $\\alpha$をチューニングしないと精度はかえって落ちる結果に\n",
    "- 原論文でも言われているように、$\\alpha = 0$だと精度が落ちてしまう"
   ]
  },
  {
   "cell_type": "code",
   "execution_count": 159,
   "metadata": {},
   "outputs": [],
   "source": [
    "from pyRULSIF import *\n",
    "from pylab import *"
   ]
  },
  {
   "cell_type": "code",
   "execution_count": 316,
   "metadata": {},
   "outputs": [],
   "source": [
    "data_list = []\n",
    "data_list_weight = []\n",
    "for hoge in [fall_11, spring_12, fall_12]:\n",
    "    x_de = np.array(spring_11[['temp', 'atemp', 'hum', 'windspeed']]).T\n",
    "    x_nu = np.array(hoge[['temp', 'atemp', 'hum', 'windspeed']]).T\n",
    "    x_re = np.tile(np.linspace(-6,6, 1000)[:,np.newaxis], 4).T\n",
    "\n",
    "    alpha_list = [0, 0.2, 0.4, 0.5, 0.6, 0.7]\n",
    "    models_lsif = []\n",
    "    weight_list = []\n",
    "    for i in alpha_list:\n",
    "        alpha = i\n",
    "        PE, w, s = R_ULSIF(x_nu, x_de, c_[x_re, x_nu, x_de], alpha,\n",
    "                           sigma_list(x_nu, x_de), lambda_list(), x_nu.shape[1], 5)\n",
    "\n",
    "        dtrain = xgb.DMatrix(\n",
    "            spring_11[['temp', 'atemp', 'hum', 'windspeed']], spring_11['cnt'], weight=w[-x_de.shape[1]:])\n",
    "        \n",
    "        ru_lsif = xgb.train(param, dtrain, num_round)\n",
    "        models_lsif.append(ru_lsif)\n",
    "        weight_list.append(w)\n",
    "    data_list.append(models_lsif)\n",
    "    data_list_weight.append(weight)"
   ]
  },
  {
   "cell_type": "markdown",
   "metadata": {},
   "source": [
    "### trainの結果"
   ]
  },
  {
   "cell_type": "code",
   "execution_count": 347,
   "metadata": {},
   "outputs": [
    {
     "name": "stdout",
     "output_type": "stream",
     "text": [
      "[49.879467, 48.85316, 47.9121, 48.667072, 47.38147]\n",
      "[35.81224, 35.24069, 34.908092, 34.720814, 33.927505]\n",
      "[43.167137, 40.661045, 39.496185, 38.512966, 37.555496]\n"
     ]
    }
   ],
   "source": [
    "train = xgb.DMatrix(spring_11[['temp', 'atemp', 'hum', 'windspeed']], spring_11['cnt'])\n",
    "print([np.sqrt((data_list[0][x].predict(train) - train.get_label())**2).mean() for x in range(len(alpha_list))])\n",
    "print([np.sqrt((data_list[1][x].predict(train) - train.get_label())**2).mean() for x in range(len(alpha_list))])\n",
    "print([np.sqrt((data_list[2][x].predict(train) - train.get_label())**2).mean() for x in range(len(alpha_list))])"
   ]
  },
  {
   "cell_type": "markdown",
   "metadata": {},
   "source": [
    "### test(fall_11) result"
   ]
  },
  {
   "cell_type": "code",
   "execution_count": 346,
   "metadata": {},
   "outputs": [
    {
     "name": "stdout",
     "output_type": "stream",
     "text": [
      "[134.04553, 132.40523, 131.88261, 132.78401, 133.69115]\n"
     ]
    }
   ],
   "source": [
    "test = xgb.DMatrix(fall_11[['temp', 'atemp', 'hum', 'windspeed']], fall_11['cnt'])\n",
    "print([np.sqrt((data_list[0][x].predict(test) - test.get_label())**2).mean() for x in range(len(alpha_list))])\n"
   ]
  },
  {
   "cell_type": "markdown",
   "metadata": {},
   "source": [
    "### test(spring_12) result"
   ]
  },
  {
   "cell_type": "code",
   "execution_count": 345,
   "metadata": {},
   "outputs": [
    {
     "name": "stdout",
     "output_type": "stream",
     "text": [
      "[112.06149, 111.814224, 111.209015, 111.39806, 111.5267]\n"
     ]
    }
   ],
   "source": [
    "test = xgb.DMatrix(spring_12[['temp', 'atemp', 'hum', 'windspeed']], spring_12['cnt'])\n",
    "print([np.sqrt((data_list[1][x].predict(test) - test.get_label())**2).mean() for x in range(len(alpha_list))])"
   ]
  },
  {
   "cell_type": "markdown",
   "metadata": {},
   "source": [
    "### test(fall_12) result"
   ]
  },
  {
   "cell_type": "code",
   "execution_count": 344,
   "metadata": {},
   "outputs": [
    {
     "name": "stdout",
     "output_type": "stream",
     "text": [
      "[179.37566, 177.65587, 177.15778, 177.31723, 176.083]\n"
     ]
    }
   ],
   "source": [
    "test = xgb.DMatrix(fall_12[['temp', 'atemp', 'hum', 'windspeed']], fall_12['cnt'])\n",
    "print([np.sqrt((data_list[2][x].predict(test) - test.get_label())**2).mean() for x in range(len(alpha_list))])"
   ]
  },
  {
   "cell_type": "markdown",
   "metadata": {},
   "source": [
    "## Ru_LSIFによる重み付け(num_round = 20)"
   ]
  },
  {
   "cell_type": "code",
   "execution_count": 168,
   "metadata": {},
   "outputs": [],
   "source": [
    "lsif_20 = []\n",
    "lsif_20_weight = []\n",
    "num_core = 6\n",
    "param = {'max_depth': 6, 'eta': 0.2, 'lambda':1,\n",
    "         'silent': 0, 'nthread': num_core,\n",
    "         'objective': 'reg:linear', 'booster': 'gbtree'}\n",
    "num_round = 20\n",
    "for hoge in [fall_11, spring_12, fall_12]:\n",
    "    x_de = np.array(spring_11[['temp', 'atemp', 'hum', 'windspeed']]).T\n",
    "    x_nu = np.array(hoge[['temp', 'atemp', 'hum', 'windspeed']]).T\n",
    "    x_re = np.tile(np.linspace(-6,6, 1000)[:,np.newaxis], 4).T\n",
    "\n",
    "    alpha_list = [0, 0.2, 0.4, 0.5, 0.6, 0.7]\n",
    "    models_lsif = []\n",
    "    weight_list = []\n",
    "    for i in alpha_list:\n",
    "        alpha = i\n",
    "        PE, w, s = R_ULSIF(x_nu, x_de, c_[x_re, x_nu, x_de], alpha,\n",
    "                           sigma_list(x_nu, x_de), lambda_list(), x_nu.shape[1], 5)\n",
    "\n",
    "        dtrain = xgb.DMatrix(\n",
    "            spring_11[['temp', 'atemp', 'hum', 'windspeed']], spring_11['cnt'], weight=w[-x_de.shape[1]:])\n",
    "        \n",
    "        ru_lsif = xgb.train(param, dtrain, num_round)\n",
    "        models_lsif.append(ru_lsif)\n",
    "        weight_list.append(w)\n",
    "    lsif_20.append(models_lsif)\n",
    "    lsif_20_weight.append(weight_list)"
   ]
  },
  {
   "cell_type": "markdown",
   "metadata": {},
   "source": [
    "### trainの結果"
   ]
  },
  {
   "cell_type": "code",
   "execution_count": 169,
   "metadata": {},
   "outputs": [
    {
     "name": "stdout",
     "output_type": "stream",
     "text": [
      "[59.207275, 57.191635, 56.63378, 56.69903, 56.223682, 56.639545]\n",
      "[52.926186, 52.691475, 52.379604, 52.152756, 52.05333, 52.664677]\n",
      "[56.9456, 59.61805, 60.68446, 65.76603, 61.388855, 60.651676]\n"
     ]
    }
   ],
   "source": [
    "train = xgb.DMatrix(spring_11[['temp', 'atemp', 'hum', 'windspeed']], spring_11['cnt'])\n",
    "print([np.sqrt((lsif_20[0][x].predict(train) - train.get_label())**2).mean() for x in range(len(alpha_list))])\n",
    "print([np.sqrt((lsif_20[1][x].predict(train) - train.get_label())**2).mean() for x in range(len(alpha_list))])\n",
    "print([np.sqrt((lsif_20[2][x].predict(train) - train.get_label())**2).mean() for x in range(len(alpha_list))])"
   ]
  },
  {
   "cell_type": "markdown",
   "metadata": {},
   "source": [
    "### test(fall_11) result"
   ]
  },
  {
   "cell_type": "code",
   "execution_count": 170,
   "metadata": {},
   "outputs": [
    {
     "name": "stdout",
     "output_type": "stream",
     "text": [
      "[121.88352, 120.26528, 119.26676, 119.88367, 119.93422, 119.04467]\n"
     ]
    }
   ],
   "source": [
    "test = xgb.DMatrix(fall_11[['temp', 'atemp', 'hum', 'windspeed']], fall_11['cnt'])\n",
    "print([np.sqrt((lsif_20[0][x].predict(test) - test.get_label())**2).mean() for x in range(len(alpha_list))])\n"
   ]
  },
  {
   "cell_type": "markdown",
   "metadata": {},
   "source": [
    "### test(spring_12) result"
   ]
  },
  {
   "cell_type": "code",
   "execution_count": 171,
   "metadata": {},
   "outputs": [
    {
     "name": "stdout",
     "output_type": "stream",
     "text": [
      "[106.68394, 106.70871, 106.93611, 106.910576, 107.04261, 106.52277]\n"
     ]
    }
   ],
   "source": [
    "test = xgb.DMatrix(spring_12[['temp', 'atemp', 'hum', 'windspeed']], spring_12['cnt'])\n",
    "print([np.sqrt((lsif_20[1][x].predict(test) - test.get_label())**2).mean() for x in range(len(alpha_list))])"
   ]
  },
  {
   "cell_type": "markdown",
   "metadata": {},
   "source": [
    "### test(fall_12) result"
   ]
  },
  {
   "cell_type": "code",
   "execution_count": 172,
   "metadata": {},
   "outputs": [
    {
     "name": "stdout",
     "output_type": "stream",
     "text": [
      "[167.2938, 166.9582, 164.40685, 165.2058, 164.64032, 165.87325]\n"
     ]
    }
   ],
   "source": [
    "test = xgb.DMatrix(fall_12[['temp', 'atemp', 'hum', 'windspeed']], fall_12['cnt'])\n",
    "print([np.sqrt((lsif_20[2][x].predict(test) - test.get_label())**2).mean() for x in range(len(alpha_list))])"
   ]
  },
  {
   "cell_type": "markdown",
   "metadata": {},
   "source": [
    "## MCEWによる重み付け(num_round = 300)"
   ]
  },
  {
   "cell_type": "code",
   "execution_count": 178,
   "metadata": {},
   "outputs": [],
   "source": [
    "def cal_MCEW(train, test):\n",
    "    # train, test ndarray object number of data(row) × n-dim(column)\n",
    "    grad = np.log(distance.cdist(train,test).sum(axis = 1))\n",
    "    if sum(np.isinf(grad)) > 0:\n",
    "        grad[np.isinf(grad)] = 0\n",
    "    grad = grad/grad.sum()\n",
    "    weight = 1 - 1 / grad.max() * grad\n",
    "    return(weight / weight.sum())"
   ]
  },
  {
   "cell_type": "code",
   "execution_count": 443,
   "metadata": {},
   "outputs": [],
   "source": [
    "mcew_300 = []\n",
    "weight_list = []\n",
    "param = {'max_depth': 6, 'eta': 0.2, 'lambda':1,\n",
    "         'silent': 0, 'nthread': num_core,\n",
    "         'objective': 'reg:linear', 'booster': 'gbtree'}\n",
    "num_round = 300\n",
    "for hoge in [fall_11, spring_12, fall_12]:\n",
    "    x_de = np.array(spring_11[['temp', 'atemp', 'hum', 'windspeed']])\n",
    "    x_nu = np.array(hoge[['temp', 'atemp', 'hum', 'windspeed']])\n",
    "    \n",
    "    w = cal_MCEW(x_de*100, x_nu*100)\n",
    "    dtrain = xgb.DMatrix(\n",
    "        spring_11[['temp', 'atemp', 'hum', 'windspeed']], spring_11['cnt'], weight=w*len(w))\n",
    "    \n",
    "    mcew = xgb.train(param, dtrain, num_round)\n",
    "    \n",
    "    mcew_300.append(mcew)\n",
    "    weight_list.append(w)"
   ]
  },
  {
   "cell_type": "markdown",
   "metadata": {},
   "source": [
    "### test(spring_11) result(train error)"
   ]
  },
  {
   "cell_type": "code",
   "execution_count": 444,
   "metadata": {},
   "outputs": [
    {
     "name": "stdout",
     "output_type": "stream",
     "text": [
      "[30.415356, 31.290129, 30.446854]\n"
     ]
    }
   ],
   "source": [
    "train = xgb.DMatrix(spring_11[['temp', 'atemp', 'hum', 'windspeed']], spring_11['cnt'])\n",
    "print([np.sqrt((mcew_300[x].predict(train) - train.get_label())**2).mean() for x in range(3)])"
   ]
  },
  {
   "cell_type": "markdown",
   "metadata": {},
   "source": [
    "### test(fall_11) result"
   ]
  },
  {
   "cell_type": "code",
   "execution_count": 445,
   "metadata": {},
   "outputs": [
    {
     "name": "stdout",
     "output_type": "stream",
     "text": [
      "134.27448\n"
     ]
    }
   ],
   "source": [
    "train = xgb.DMatrix(fall_11[['temp', 'atemp', 'hum', 'windspeed']], fall_11['cnt'])\n",
    "print(np.sqrt((mcew_300[0].predict(train) - train.get_label())**2).mean())"
   ]
  },
  {
   "cell_type": "markdown",
   "metadata": {},
   "source": [
    "### test(spring_12) result"
   ]
  },
  {
   "cell_type": "code",
   "execution_count": 446,
   "metadata": {},
   "outputs": [
    {
     "name": "stdout",
     "output_type": "stream",
     "text": [
      "111.823845\n"
     ]
    }
   ],
   "source": [
    "train = xgb.DMatrix(spring_12[['temp', 'atemp', 'hum', 'windspeed']], spring_12['cnt'])\n",
    "print(np.sqrt((mcew_300[1].predict(train) - train.get_label())**2).mean() )"
   ]
  },
  {
   "cell_type": "markdown",
   "metadata": {},
   "source": [
    "### test(fall_12) result"
   ]
  },
  {
   "cell_type": "code",
   "execution_count": 447,
   "metadata": {},
   "outputs": [
    {
     "name": "stdout",
     "output_type": "stream",
     "text": [
      "179.62065\n"
     ]
    }
   ],
   "source": [
    "train = xgb.DMatrix(fall_12[['temp', 'atemp', 'hum', 'windspeed']], fall_12['cnt'])\n",
    "print(np.sqrt((mcew_300[2].predict(train) - train.get_label())**2).mean())"
   ]
  },
  {
   "cell_type": "markdown",
   "metadata": {},
   "source": [
    "## MCEW(num_round = 20)"
   ]
  },
  {
   "cell_type": "code",
   "execution_count": 192,
   "metadata": {},
   "outputs": [],
   "source": [
    "mcew_20 = []\n",
    "weight_list_20 = []\n",
    "param = {'max_depth': 6, 'eta': 0.2, 'lambda':1,\n",
    "         'silent': 0, 'nthread': num_core,\n",
    "         'objective': 'reg:linear', 'booster': 'gbtree'}\n",
    "num_round = 20\n",
    "for hoge in [fall_11, spring_12, fall_12]:\n",
    "    x_de = np.array(spring_11[['temp', 'atemp', 'hum', 'windspeed']])\n",
    "    x_nu = np.array(hoge[['temp', 'atemp', 'hum', 'windspeed']])\n",
    "    \n",
    "    w = cal_MCEW(x_de*100, x_nu*100)\n",
    "    dtrain = xgb.DMatrix(\n",
    "        spring_11[['temp', 'atemp', 'hum', 'windspeed']], spring_11['cnt'], weight=w*len(w))\n",
    "    \n",
    "    mcew = xgb.train(param, dtrain, num_round)\n",
    "    \n",
    "    mcew_20.append(mcew)\n",
    "    weight_list_20.append(w)"
   ]
  },
  {
   "cell_type": "markdown",
   "metadata": {},
   "source": [
    "### test(spring_11) result(train error)"
   ]
  },
  {
   "cell_type": "code",
   "execution_count": 180,
   "metadata": {},
   "outputs": [
    {
     "name": "stdout",
     "output_type": "stream",
     "text": [
      "[51.402054, 51.798107, 51.169094]\n"
     ]
    }
   ],
   "source": [
    "train = xgb.DMatrix(spring_11[['temp', 'atemp', 'hum', 'windspeed']], spring_11['cnt'])\n",
    "print([np.sqrt((mcew_20[x].predict(train) - train.get_label())**2).mean() for x in range(3)])"
   ]
  },
  {
   "cell_type": "markdown",
   "metadata": {},
   "source": [
    "### test(fall_11) result"
   ]
  },
  {
   "cell_type": "code",
   "execution_count": 181,
   "metadata": {},
   "outputs": [
    {
     "name": "stdout",
     "output_type": "stream",
     "text": [
      "119.164116\n"
     ]
    }
   ],
   "source": [
    "train = xgb.DMatrix(fall_11[['temp', 'atemp', 'hum', 'windspeed']], fall_11['cnt'])\n",
    "print(np.sqrt((mcew_20[0].predict(train) - train.get_label())**2).mean())"
   ]
  },
  {
   "cell_type": "markdown",
   "metadata": {},
   "source": [
    "### test(spring_12) result"
   ]
  },
  {
   "cell_type": "code",
   "execution_count": 182,
   "metadata": {},
   "outputs": [
    {
     "name": "stdout",
     "output_type": "stream",
     "text": [
      "106.418594\n"
     ]
    }
   ],
   "source": [
    "train = xgb.DMatrix(spring_12[['temp', 'atemp', 'hum', 'windspeed']], spring_12['cnt'])\n",
    "print(np.sqrt((mcew_20[1].predict(train) - train.get_label())**2).mean() )"
   ]
  },
  {
   "cell_type": "markdown",
   "metadata": {},
   "source": [
    "### test(fall_12) result"
   ]
  },
  {
   "cell_type": "code",
   "execution_count": 183,
   "metadata": {},
   "outputs": [
    {
     "name": "stdout",
     "output_type": "stream",
     "text": [
      "165.27342\n"
     ]
    }
   ],
   "source": [
    "train = xgb.DMatrix(fall_12[['temp', 'atemp', 'hum', 'windspeed']], fall_12['cnt'])\n",
    "print(np.sqrt((mcew_20[2].predict(train) - train.get_label())**2).mean())"
   ]
  },
  {
   "cell_type": "markdown",
   "metadata": {},
   "source": [
    "# 結果の可視化"
   ]
  },
  {
   "cell_type": "markdown",
   "metadata": {},
   "source": [
    "## fall_11\n",
    "- $\\alpha = 0.7$"
   ]
  },
  {
   "cell_type": "markdown",
   "metadata": {},
   "source": [
    "### weight distribution"
   ]
  },
  {
   "cell_type": "code",
   "execution_count": 287,
   "metadata": {},
   "outputs": [
    {
     "data": {
      "image/png": "[encoded data removed]",
      "text/plain": [
       "<matplotlib.figure.Figure at 0x7f30b804c6a0>"
      ]
     },
     "metadata": {},
     "output_type": "display_data"
    }
   ],
   "source": [
    "plt.figure(figsize = (12,7))\n",
    "plt.subplot(1,2,1)\n",
    "plt.hist(lsif_20_weight[0][5][-len(fall_11):], label = 'lsif(alpha:0.7)_fall11')\n",
    "plt.legend()\n",
    "plt.subplot(1,2,2)\n",
    "plt.hist(weight_list_20[0],  label = 'mcew_fall11')\n",
    "plt.legend()\n",
    "plt.savefig('weight_fall11.pdf')"
   ]
  },
  {
   "cell_type": "markdown",
   "metadata": {},
   "source": [
    "### train error"
   ]
  },
  {
   "cell_type": "code",
   "execution_count": 252,
   "metadata": {},
   "outputs": [
    {
     "name": "stdout",
     "output_type": "stream",
     "text": [
      "train error\n",
      "{'nw': 51.610783, 'lsif': 56.639545, 'mce': 51.402054}\n"
     ]
    },
    {
     "data": {
      "image/png": "[encoded data removed]",
      "text/plain": [
       "<matplotlib.figure.Figure at 0x7f30b9acfc18>"
      ]
     },
     "metadata": {},
     "output_type": "display_data"
    }
   ],
   "source": [
    "# error\n",
    "# non-weight\n",
    "plt.figure(figsize = (12, 7))\n",
    "train = xgb.DMatrix(spring_11[['temp', 'atemp', 'hum', 'windspeed']], spring_11['cnt'])\n",
    "nw = np.sqrt((non_weight.predict(train) - train.get_label())**2)\n",
    "# ru-lsif\n",
    "test_fall11 = xgb.DMatrix(fall_11[['temp', 'atemp', 'hum', 'windspeed']], fall_11['cnt'])\n",
    "lsif = np.sqrt((lsif_20[0][5].predict(train) - train.get_label())**2)\n",
    "# mcew\n",
    "mce = np.sqrt((mcew_20[0].predict(train) - train.get_label())**2)\n",
    "plt.boxplot([nw, lsif, mce])\n",
    "plt.xticks([1,2,3],['nw', 'lsif', 'mce'])\n",
    "print('train error')\n",
    "print({'nw':nw.mean(), 'lsif':lsif.mean(), 'mce':mce.mean()})"
   ]
  },
  {
   "cell_type": "markdown",
   "metadata": {},
   "source": [
    "### test error"
   ]
  },
  {
   "cell_type": "code",
   "execution_count": 265,
   "metadata": {},
   "outputs": [
    {
     "name": "stdout",
     "output_type": "stream",
     "text": [
      "test error\n",
      "{'nw': 119.87656, 'lsif': 119.04467, 'mce': 119.164116}\n"
     ]
    },
    {
     "data": {
      "image/png": "[encoded data removed]",
      "text/plain": [
       "<matplotlib.figure.Figure at 0x7f30b86de160>"
      ]
     },
     "metadata": {},
     "output_type": "display_data"
    }
   ],
   "source": [
    "# error\n",
    "# non-weight\n",
    "plt.figure(figsize = (12, 7))\n",
    "nw = np.sqrt((non_weight.predict(dtest1) - dtest1.get_label())**2)\n",
    "# ru-lsif\n",
    "test_fall11 = xgb.DMatrix(fall_11[['temp', 'atemp', 'hum', 'windspeed']], fall_11['cnt'])\n",
    "lsif = np.sqrt((lsif_20[0][5].predict(test_fall11) - test_fall11.get_label())**2)\n",
    "# mcew\n",
    "mce = np.sqrt((mcew_20[0].predict(test_fall11) - test_fall11.get_label())**2)\n",
    "plt.boxplot([nw, lsif, mce])\n",
    "plt.xticks([1,2,3],['nw', 'lsif', 'mce'])\n",
    "print('test error')\n",
    "print({'nw':nw.mean(), 'lsif':lsif.mean(), 'mce':mce.mean()})\n",
    "plt.savefig('res_fall_11.pdf')"
   ]
  },
  {
   "cell_type": "code",
   "execution_count": 233,
   "metadata": {},
   "outputs": [
    {
     "name": "stdout",
     "output_type": "stream",
     "text": [
      "train error\n",
      "{'nw': 51.610783, 'lsif': 56.639545, 'mce': 51.402054}\n"
     ]
    },
    {
     "data": {
      "image/png": "[encoded data removed]",
      "text/plain": [
       "<matplotlib.figure.Figure at 0x7f30b9d0e978>"
      ]
     },
     "metadata": {},
     "output_type": "display_data"
    }
   ],
   "source": [
    "# non-weight\n",
    "plt.hist(nw, label = 'nw', alpha = 0.3)\n",
    "# ru-lsif\n",
    "plt.hist(lsif, label = 'lsif', alpha = 0.3)\n",
    "# mcew\n",
    "plt.hist(mce, label ='mce', alpha = 0.3)\n",
    "plt.legend()\n",
    "print('train error')\n",
    "print({'nw':nw.mean(), 'lsif':lsif.mean(), 'mce':mce.mean()})"
   ]
  },
  {
   "cell_type": "markdown",
   "metadata": {},
   "source": [
    "## spring_12\n",
    "- $\\alpha = 0.7$"
   ]
  },
  {
   "cell_type": "markdown",
   "metadata": {},
   "source": [
    "### weight distribution"
   ]
  },
  {
   "cell_type": "code",
   "execution_count": 288,
   "metadata": {},
   "outputs": [
    {
     "data": {
      "image/png": "[encoded data removed]",
      "text/plain": [
       "<matplotlib.figure.Figure at 0x7f30b804c320>"
      ]
     },
     "metadata": {},
     "output_type": "display_data"
    }
   ],
   "source": [
    "plt.figure(figsize = (12,7))\n",
    "plt.subplot(1,2,1)\n",
    "plt.hist(lsif_20_weight[1][5][-len(spring_12):], label = 'lsif(alpha:0.7)_spring12')\n",
    "plt.legend()\n",
    "plt.subplot(1,2,2)\n",
    "plt.hist(weight_list_20[1],  label = 'mcew_spring12')\n",
    "plt.legend()\n",
    "plt.savefig('weight_spring12.pdf')"
   ]
  },
  {
   "cell_type": "markdown",
   "metadata": {},
   "source": [
    "### train error"
   ]
  },
  {
   "cell_type": "code",
   "execution_count": 259,
   "metadata": {},
   "outputs": [
    {
     "name": "stdout",
     "output_type": "stream",
     "text": [
      "train error\n",
      "{'nw': 51.610783, 'lsif': 52.664677, 'mce': 51.798107}\n"
     ]
    },
    {
     "data": {
      "image/png": "[encoded data removed]",
      "text/plain": [
       "<matplotlib.figure.Figure at 0x7f30b9c76e80>"
      ]
     },
     "metadata": {},
     "output_type": "display_data"
    }
   ],
   "source": [
    "# error\n",
    "# non-weight\n",
    "plt.figure(figsize = (12, 7))\n",
    "train = xgb.DMatrix(spring_11[['temp', 'atemp', 'hum', 'windspeed']], spring_11['cnt'])\n",
    "nw = np.sqrt((non_weight.predict(train) - train.get_label())**2)\n",
    "# ru-lsif\n",
    "lsif = np.sqrt((lsif_20[1][5].predict(train) - train.get_label())**2)\n",
    "# mcew\n",
    "mce = np.sqrt((mcew_20[1].predict(train) - train.get_label())**2)\n",
    "plt.boxplot([nw, lsif, mce])\n",
    "plt.xticks([1,2,3],['nw', 'lsif', 'mce'])\n",
    "print('train error')\n",
    "print({'nw':nw.mean(), 'lsif':lsif.mean(), 'mce':mce.mean()})"
   ]
  },
  {
   "cell_type": "markdown",
   "metadata": {},
   "source": [
    "### test error"
   ]
  },
  {
   "cell_type": "code",
   "execution_count": 269,
   "metadata": {},
   "outputs": [
    {
     "name": "stdout",
     "output_type": "stream",
     "text": [
      "test error\n",
      "{'nw': 106.72612, 'lsif': 106.52277, 'mce': 106.418594}\n"
     ]
    },
    {
     "data": {
      "image/png": "[encoded data removed]",
      "text/plain": [
       "<matplotlib.figure.Figure at 0x7f30b88c8208>"
      ]
     },
     "metadata": {},
     "output_type": "display_data"
    }
   ],
   "source": [
    "# error\n",
    "# non-weight\n",
    "plt.figure(figsize = (12, 7))\n",
    "nw = np.sqrt((non_weight.predict(dtest2) - dtest2.get_label())**2)\n",
    "# ru-lsif\n",
    "test_fall11 = xgb.DMatrix(spring_12[['temp', 'atemp', 'hum', 'windspeed']], spring_12['cnt'])\n",
    "lsif = np.sqrt((lsif_20[1][5].predict(test_fall11) - test_fall11.get_label())**2)\n",
    "# mcew\n",
    "mce = np.sqrt((mcew_20[1].predict(test_fall11) - test_fall11.get_label())**2)\n",
    "plt.boxplot([nw, lsif, mce])\n",
    "plt.xticks([1,2,3],['nw', 'lsif', 'mce'])\n",
    "print('test error')\n",
    "print({'nw':nw.mean(), 'lsif':lsif.mean(), 'mce':mce.mean()})\n",
    "plt.savefig('res_spring_12.pdf')"
   ]
  },
  {
   "cell_type": "code",
   "execution_count": 240,
   "metadata": {},
   "outputs": [
    {
     "name": "stdout",
     "output_type": "stream",
     "text": [
      "train error\n",
      "{'nw': 106.72612, 'lsif': 106.52277, 'mce': 106.418594}\n"
     ]
    },
    {
     "data": {
      "image/png": "[encoded data removed]",
      "text/plain": [
       "<matplotlib.figure.Figure at 0x7f30c9b06c18>"
      ]
     },
     "metadata": {},
     "output_type": "display_data"
    }
   ],
   "source": [
    "# non-weight\n",
    "plt.hist(nw, label = 'nw', alpha = 0.3)\n",
    "# ru-lsif\n",
    "plt.hist(lsif, label = 'lsif', alpha = 0.3)\n",
    "# mcew\n",
    "plt.hist(mce, label ='mce', alpha = 0.3)\n",
    "plt.legend()\n",
    "print('train error')\n",
    "print({'nw':nw.mean(), 'lsif':lsif.mean(), 'mce':mce.mean()})"
   ]
  },
  {
   "cell_type": "markdown",
   "metadata": {},
   "source": [
    "## fall_12\n",
    "- $\\alpha = 0.4$"
   ]
  },
  {
   "cell_type": "markdown",
   "metadata": {},
   "source": [
    "### weight distribution"
   ]
  },
  {
   "cell_type": "code",
   "execution_count": 289,
   "metadata": {},
   "outputs": [
    {
     "data": {
      "image/png": "[encoded data removed]",
      "text/plain": [
       "<matplotlib.figure.Figure at 0x7f30b7ef69b0>"
      ]
     },
     "metadata": {},
     "output_type": "display_data"
    }
   ],
   "source": [
    "plt.figure(figsize = (12,7))\n",
    "plt.subplot(1,2,1)\n",
    "plt.hist(lsif_20_weight[2][2][-len(fall_12):], label = 'lsif(alpha:0.7)_fall12')\n",
    "plt.legend()\n",
    "plt.subplot(1,2,2)\n",
    "plt.hist(weight_list_20[2],  label = 'mcew_fall12')\n",
    "plt.legend()\n",
    "plt.savefig('weight_fall12.pdf')"
   ]
  },
  {
   "cell_type": "markdown",
   "metadata": {},
   "source": [
    "### train error"
   ]
  },
  {
   "cell_type": "code",
   "execution_count": 261,
   "metadata": {},
   "outputs": [
    {
     "name": "stdout",
     "output_type": "stream",
     "text": [
      "train error\n",
      "{'nw': 51.610783, 'lsif': 60.68446, 'mce': 51.169094}\n"
     ]
    },
    {
     "data": {
      "image/png": "[encoded data removed]",
      "text/plain": [
       "<matplotlib.figure.Figure at 0x7f30b94db080>"
      ]
     },
     "metadata": {},
     "output_type": "display_data"
    }
   ],
   "source": [
    "# error\n",
    "# non-weight\n",
    "plt.figure(figsize = (12, 7))\n",
    "train = xgb.DMatrix(spring_11[['temp', 'atemp', 'hum', 'windspeed']], spring_11['cnt'])\n",
    "nw = np.sqrt((non_weight.predict(train) - train.get_label())**2)\n",
    "# ru-lsif\n",
    "lsif = np.sqrt((lsif_20[2][2].predict(train) - train.get_label())**2)\n",
    "# mcew\n",
    "mce = np.sqrt((mcew_20[2].predict(train) - train.get_label())**2)\n",
    "plt.boxplot([nw, lsif, mce])\n",
    "plt.xticks([1,2,3],['nw', 'lsif', 'mce'])\n",
    "print('train error')\n",
    "print({'nw':nw.mean(), 'lsif':lsif.mean(), 'mce':mce.mean()})"
   ]
  },
  {
   "cell_type": "code",
   "execution_count": 263,
   "metadata": {},
   "outputs": [
    {
     "data": {
      "text/plain": [
       "(2208, 20)"
      ]
     },
     "execution_count": 263,
     "metadata": {},
     "output_type": "execute_result"
    }
   ],
   "source": [
    "fall_12.shape"
   ]
  },
  {
   "cell_type": "markdown",
   "metadata": {},
   "source": [
    "### test error"
   ]
  },
  {
   "cell_type": "code",
   "execution_count": 270,
   "metadata": {},
   "outputs": [
    {
     "name": "stdout",
     "output_type": "stream",
     "text": [
      "test error\n",
      "{'nw': 165.53015, 'lsif': 164.40685, 'mce': 165.27342}\n"
     ]
    },
    {
     "data": {
      "image/png": "[encoded data removed]",
      "text/plain": [
       "<matplotlib.figure.Figure at 0x7f30b8c3e6d8>"
      ]
     },
     "metadata": {},
     "output_type": "display_data"
    }
   ],
   "source": [
    "# error\n",
    "# non-weight\n",
    "plt.figure(figsize = (12, 7))\n",
    "nw = np.sqrt((non_weight.predict(dtest3) - dtest3.get_label())**2)\n",
    "# ru-lsif\n",
    "test_fall11 = xgb.DMatrix(fall_12[['temp', 'atemp', 'hum', 'windspeed']], fall_12['cnt'])\n",
    "lsif = np.sqrt((lsif_20[2][2].predict(test_fall11) - test_fall11.get_label())**2)\n",
    "# mcew\n",
    "mce = np.sqrt((mcew_20[2].predict(test_fall11) - test_fall11.get_label())**2)\n",
    "plt.boxplot([nw, lsif, mce])\n",
    "plt.xticks([1,2,3],['nw', 'lsif', 'mce'])\n",
    "print('test error')\n",
    "print({'nw':nw.mean(), 'lsif':lsif.mean(), 'mce':mce.mean()})\n",
    "plt.savefig('res_fall_12.pdf')"
   ]
  },
  {
   "cell_type": "markdown",
   "metadata": {},
   "source": [
    "# 特徴量を変更して実行(ダミー変数化)\n",
    "情報として大切そうなのは、\n",
    "- weekdayなのか、休日なのか、というフラグ\n",
    "- 天気を表すフラグ"
   ]
  },
  {
   "cell_type": "code",
   "execution_count": 135,
   "metadata": {},
   "outputs": [],
   "source": [
    "num_core = 4\n",
    "dtrain = xgb.DMatrix(\n",
    "    spring_11[['workingday','weather_2', 'weather_3', 'weather_4','temp', 'atemp', 'hum', 'windspeed']], spring_11['cnt'])\n",
    "dtest1 = xgb.DMatrix(fall_11[['workingday','weather_2', 'weather_3', 'weather_4','temp', 'atemp', 'hum', 'windspeed']], fall_11['cnt'])\n",
    "dtest2 = xgb.DMatrix(spring_12[['workingday','weather_2', 'weather_3', 'weather_4','temp', 'atemp', 'hum', 'windspeed']], spring_12['cnt'])\n",
    "dtest3 = xgb.DMatrix(fall_12[['workingday','weather_2', 'weather_3', 'weather_4','temp', 'atemp', 'hum', 'windspeed']], fall_12['cnt'])\n",
    "\n",
    "watchlist = [(dtrain, 'train')]\n",
    "param = {'max_depth': 6, 'eta': 0.2, 'lambda':1,\n",
    "         'silent': 0, 'nthread': num_core,\n",
    "         'objective': 'reg:linear', 'booster': 'gbtree'}\n",
    "num_round = 35\n",
    "non_weight = xgb.train(param, dtrain, num_round)"
   ]
  },
  {
   "cell_type": "code",
   "execution_count": 136,
   "metadata": {},
   "outputs": [
    {
     "name": "stdout",
     "output_type": "stream",
     "text": [
      "train error: 47.063988\n",
      "test_1 error: 122.026115\n",
      "test_2 error: 105.79502\n",
      "test_3 error: 166.85368\n"
     ]
    }
   ],
   "source": [
    "print('train error:', np.sqrt((non_weight.predict(dtrain) - dtrain.get_label())**2).mean())\n",
    "print('test_1 error:', np.sqrt((non_weight.predict(dtest1) - dtest1.get_label())**2).mean())\n",
    "print('test_2 error:', np.sqrt((non_weight.predict(dtest2) - dtest2.get_label())**2).mean())\n",
    "print('test_3 error:', np.sqrt((non_weight.predict(dtest3) - dtest3.get_label())**2).mean())"
   ]
  },
  {
   "cell_type": "code",
   "execution_count": 223,
   "metadata": {},
   "outputs": [
    {
     "data": {
      "text/plain": [
       "(2208,)"
      ]
     },
     "execution_count": 223,
     "metadata": {},
     "output_type": "execute_result"
    }
   ],
   "source": [
    "mce.shape"
   ]
  },
  {
   "cell_type": "markdown",
   "metadata": {},
   "source": [
    "# 実行時間の比較"
   ]
  },
  {
   "cell_type": "code",
   "execution_count": 274,
   "metadata": {},
   "outputs": [
    {
     "data": {
      "text/plain": [
       "[(3530, 20), (2192, 20)]"
      ]
     },
     "execution_count": 274,
     "metadata": {},
     "output_type": "execute_result"
    }
   ],
   "source": [
    "[spring_11.shape, fall_11.shape]"
   ]
  },
  {
   "cell_type": "code",
   "execution_count": 277,
   "metadata": {},
   "outputs": [],
   "source": [
    "hoge = np.array(spring_11[['temp', 'atemp', 'hum', 'windspeed']]).T\n",
    "huga = np.array(fall_11[['temp', 'atemp', 'hum', 'windspeed']]).T\n",
    "hage = np.tile(np.linspace(-6,6, 1000)[:,np.newaxis], 4).T"
   ]
  },
  {
   "cell_type": "code",
   "execution_count": 279,
   "metadata": {},
   "outputs": [
    {
     "data": {
      "text/plain": [
       "(4, 3530)"
      ]
     },
     "execution_count": 279,
     "metadata": {},
     "output_type": "execute_result"
    }
   ],
   "source": [
    "hoge.shape"
   ]
  },
  {
   "cell_type": "code",
   "execution_count": 280,
   "metadata": {},
   "outputs": [
    {
     "data": {
      "text/plain": [
       "(4, 2192)"
      ]
     },
     "execution_count": 280,
     "metadata": {},
     "output_type": "execute_result"
    }
   ],
   "source": [
    "huga.shape"
   ]
  },
  {
   "cell_type": "code",
   "execution_count": 281,
   "metadata": {},
   "outputs": [
    {
     "name": "stdout",
     "output_type": "stream",
     "text": [
      "85.6 ms ± 4 ms per loop (mean ± std. dev. of 7 runs, 10 loops each)\n"
     ]
    }
   ],
   "source": [
    "%timeit cal_MCEW(hoge.T, huga.T)"
   ]
  },
  {
   "cell_type": "code",
   "execution_count": null,
   "metadata": {},
   "outputs": [],
   "source": [
    "x_de = np.array(spring_11[['temp', 'atemp', 'hum', 'windspeed']]).T\n",
    "x_nu = np.array(hoge[['temp', 'atemp', 'hum', 'windspeed']]).T\n",
    "x_re = np.tile(np.linspace(-6,6, 1000)[:,np.newaxis], 4).T"
   ]
  },
  {
   "cell_type": "code",
   "execution_count": 283,
   "metadata": {},
   "outputs": [
    {
     "name": "stdout",
     "output_type": "stream",
     "text": [
      "1min ± 546 ms per loop (mean ± std. dev. of 7 runs, 1 loop each)\n"
     ]
    }
   ],
   "source": [
    "%timeit R_ULSIF(huga, hoge, c_[hage, huga, hoge], alpha,\\\n",
    "                           sigma_list(huga, hoge), lambda_list(), huga.shape[1], 5)"
   ]
  },
  {
   "cell_type": "code",
   "execution_count": 286,
   "metadata": {},
   "outputs": [
    {
     "data": {
      "text/plain": [
       "2.42184"
      ]
     },
     "execution_count": 286,
     "metadata": {},
     "output_type": "execute_result"
    }
   ],
   "source": [
    "60.546/25"
   ]
  }
 ],
 "metadata": {
  "kernelspec": {
   "display_name": "Python 3",
   "language": "python",
   "name": "python3"
  },
  "language_info": {
   "codemirror_mode": {
    "name": "ipython",
    "version": 3
   },
   "file_extension": ".py",
   "mimetype": "text/x-python",
   "name": "python",
   "nbconvert_exporter": "python",
   "pygments_lexer": "ipython3",
   "version": "3.6.4"
  },
  "toc": {
   "base_numbering": 1,
   "nav_menu": {},
   "number_sections": true,
   "sideBar": true,
   "skip_h1_title": false,
   "title_cell": "Table of Contents",
   "title_sidebar": "Contents",
   "toc_cell": false,
   "toc_position": {},
   "toc_section_display": true,
   "toc_window_display": true
  },
  "varInspector": {
   "cols": {
    "lenName": 16,
    "lenType": 16,
    "lenVar": 40
   },
   "kernels_config": {
    "python": {
     "delete_cmd_postfix": "",
     "delete_cmd_prefix": "del ",
     "library": "var_list.py",
     "varRefreshCmd": "print(var_dic_list())"
    },
    "r": {
     "delete_cmd_postfix": ") ",
     "delete_cmd_prefix": "rm(",
     "library": "var_list.r",
     "varRefreshCmd": "cat(var_dic_list()) "
    }
   },
   "types_to_exclude": [
    "module",
    "function",
    "builtin_function_or_method",
    "instance",
    "_Feature"
   ],
   "window_display": false
  }
 },
 "nbformat": 4,
 "nbformat_minor": 2
}
