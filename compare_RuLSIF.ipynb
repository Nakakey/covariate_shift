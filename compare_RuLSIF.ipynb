{
 "cells": [
  {
   "cell_type": "markdown",
   "metadata": {},
   "source": [
    "# 一次元タスクでのRuLSIFとMCEWの比較"
   ]
  },
  {
   "cell_type": "markdown",
   "metadata": {},
   "source": [
    "## 元データ生成\n",
    "No Bias Left Behind: Covariate Shift Adaptation for Discriminative 3D Pose Estimationでのtoy practiceでの設定"
   ]
  },
  {
   "cell_type": "code",
   "execution_count": 175,
   "metadata": {},
   "outputs": [],
   "source": [
    "import autopep8\n",
    "import numpy as np\n",
    "import pandas as pd\n",
    "import os\n",
    "import matplotlib.pyplot as plt\n",
    "import itertools as it\n",
    "%matplotlib inline"
   ]
  },
  {
   "cell_type": "code",
   "execution_count": 176,
   "metadata": {},
   "outputs": [],
   "source": [
    "def gen_x(y):\n",
    "    return y + 0.3 * np.sin(2*np.pi*y) + np.random.normal(loc=0.0, scale=0.05, size=len(y))"
   ]
  },
  {
   "cell_type": "code",
   "execution_count": 177,
   "metadata": {},
   "outputs": [],
   "source": [
    "np.random.seed(123)\n",
    "# data size setting\n",
    "data_size_train = 200\n",
    "data_size_test = 400\n",
    "\n",
    "# generate train /test data\n",
    "test_y = np.concatenate((np.random.normal(0.9, scale=0.03, size=int(data_size_test/2)),\n",
    "                         np.random.normal(0.1, scale=0.03, size=int(data_size_test/2))))\n",
    "test_x = gen_x(test_y)\n",
    "\n",
    "train_y = np.random.uniform(size=data_size_train)\n",
    "train_x = gen_x(train_y)"
   ]
  },
  {
   "cell_type": "code",
   "execution_count": 178,
   "metadata": {},
   "outputs": [
    {
     "data": {
      "text/plain": [
       "Text(0,0.5,'y')"
      ]
     },
     "execution_count": 178,
     "metadata": {},
     "output_type": "execute_result"
    },
    {
     "data": {
      "image/png": "[encoded data removed]",
      "text/plain": [
       "<matplotlib.figure.Figure at 0x114e07400>"
      ]
     },
     "metadata": {},
     "output_type": "display_data"
    }
   ],
   "source": [
    "plt.figure(figsize=(7, 5))\n",
    "plt.plot(test_x, test_y, 'r*', label='test')\n",
    "plt.plot(train_x, train_y, 'bo', label='train')\n",
    "plt.xlabel('x')\n",
    "plt.ylabel('y')"
   ]
  },
  {
   "cell_type": "code",
   "execution_count": 179,
   "metadata": {},
   "outputs": [
    {
     "data": {
      "text/plain": [
       "(array([19., 58., 79., 35., 10., 25., 59., 79., 31.,  5.]),\n",
       " array([0.04454024, 0.14061836, 0.23669649, 0.33277461, 0.42885273,\n",
       "        0.52493085, 0.62100897, 0.71708709, 0.81316522, 0.90924334,\n",
       "        1.00532146]),\n",
       " <a list of 10 Patch objects>)"
      ]
     },
     "execution_count": 179,
     "metadata": {},
     "output_type": "execute_result"
    },
    {
     "data": {
      "image/png": "[encoded data removed]",
      "text/plain": [
       "<matplotlib.figure.Figure at 0x1141c94a8>"
      ]
     },
     "metadata": {},
     "output_type": "display_data"
    }
   ],
   "source": [
    "plt.subplot(2,1,1)\n",
    "plt.hist(train_x)\n",
    "plt.subplot(2,1,2)\n",
    "plt.hist(test_x, color = 'r')"
   ]
  },
  {
   "cell_type": "code",
   "execution_count": 180,
   "metadata": {},
   "outputs": [
    {
     "data": {
      "text/plain": [
       "(array([176.,  24.,   0.,   0.,   0.,   0.,   0.,   0.,  58., 142.]),\n",
       " array([0.03245395, 0.12700347, 0.22155298, 0.3161025 , 0.41065202,\n",
       "        0.50520153, 0.59975105, 0.69430057, 0.78885008, 0.8833996 ,\n",
       "        0.97794912]),\n",
       " <a list of 10 Patch objects>)"
      ]
     },
     "execution_count": 180,
     "metadata": {},
     "output_type": "execute_result"
    },
    {
     "data": {
      "image/png": "[encoded data removed]",
      "text/plain": [
       "<matplotlib.figure.Figure at 0x1150740b8>"
      ]
     },
     "metadata": {},
     "output_type": "display_data"
    }
   ],
   "source": [
    "plt.subplot(2,1,1)\n",
    "plt.hist(train_y)\n",
    "plt.subplot(2,1,2)\n",
    "plt.hist(test_y, color = 'r')"
   ]
  },
  {
   "cell_type": "markdown",
   "metadata": {},
   "source": [
    "## 2 Kernel Logistic regressonの実装 "
   ]
  },
  {
   "cell_type": "code",
   "execution_count": 181,
   "metadata": {},
   "outputs": [],
   "source": [
    "import numpy as np\n",
    "from scipy.spatial import distance"
   ]
  },
  {
   "cell_type": "code",
   "execution_count": 182,
   "metadata": {},
   "outputs": [],
   "source": [
    "sigma = 1\n",
    "gamma = 0.2"
   ]
  },
  {
   "cell_type": "markdown",
   "metadata": {},
   "source": [
    "***カーネル回帰モデル***\n",
    "\n",
    "$f(x;A) = A^Tk(x)$\n",
    "\n",
    "で表される。この時、\n",
    "$k(x)=[1, K(x,x_1^{tr}), K(x,x_2^{tr}), \\cdots K(x, x_{n_{tr}}^{tr})]^T$の場合、\n",
    "\n",
    "モデルパラメータ$A$は、\n",
    "\n",
    "$ \\hat{A}= (\\tilde{K}^{tr}W(\\tilde{K}^{tr})^T+\\gamma I)\\tilde{K}^{tr}W(Y^{tr})^T $\n",
    "\n",
    "で解析的に求まる。ここで、\n",
    "\n",
    "$\\tilde{K}^{tr}=[k(x_1^{tr}), k(x_2^{tr}), \\cdots,k(x_{n_{tr}}^{tr})], Y^{tr}=[y_1^{tr}, \\cdots, y_{n_{tr}}^{tr}]$である"
   ]
  },
  {
   "cell_type": "markdown",
   "metadata": {},
   "source": [
    "### 学習"
   ]
  },
  {
   "cell_type": "code",
   "execution_count": 183,
   "metadata": {},
   "outputs": [],
   "source": [
    "train = train_x[:, np.newaxis]\n",
    "response = train_y\n",
    "test = test_x[:, np.newaxis]"
   ]
  },
  {
   "cell_type": "code",
   "execution_count": 187,
   "metadata": {},
   "outputs": [],
   "source": [
    "#W = np.diag(w[-train.T.shape[1]:])\n",
    "W = np.eye(len(train))\n",
    "K = np.concatenate((np.ones(len(train))[np.newaxis, :],\n",
    "                np.exp(-distance.cdist(train, train)**2/2/sigma**2)))\n",
    "\n",
    "\n",
    "_left = np.dot(np.dot(K, W), K.T) + gamma*np.eye(len(train)+1) \n",
    "_right = np.dot(np.dot(K, W), response.T)\n",
    "\n",
    "A = np.dot(_left, _right)"
   ]
  },
  {
   "cell_type": "code",
   "execution_count": 174,
   "metadata": {
    "collapsed": true
   },
   "outputs": [
    {
     "data": {
      "text/plain": [
       "array([3331454.86834347, 3248169.20249146, 3243369.01241238,\n",
       "       3255428.48376753, 3129742.49790292, 3248191.14430274,\n",
       "       3236347.11109839, 3256893.76262851, 3244366.44982005,\n",
       "       3130496.68838858, 3032718.58714593, 3191472.51313519,\n",
       "       3256631.86768938, 2905072.60251122, 3252927.49961024,\n",
       "       3257100.70491143, 3194219.80524883, 3244932.90713571,\n",
       "       3212201.18108547, 3246252.33732622, 3211466.65606601,\n",
       "       3244052.04095028, 3101537.95401181, 3239700.60036816,\n",
       "       2800357.3139269 , 3230381.10830154, 3243466.70869754,\n",
       "       3099843.72650151, 3257242.26073203, 3243822.7922616 ,\n",
       "       3256336.09830747, 3221410.91218226, 3011921.19594915,\n",
       "       3085004.76733226, 3252850.2550698 , 3252122.01367305,\n",
       "       3253045.40115321, 3248577.96535055, 3242385.3708592 ,\n",
       "       3255631.93832483, 3202641.5177334 , 3072535.42960924,\n",
       "       3230181.01962414, 3147955.18168519, 3231913.24655296,\n",
       "       3252532.93233568, 2963924.31555336, 3244614.97739047,\n",
       "       3233527.94332926, 3252848.09811189, 3117236.29890966,\n",
       "       3256623.28197346, 3150005.3061052 , 3255949.85726765,\n",
       "       3223147.00825272, 3256600.76047864, 3188882.53755128,\n",
       "       3237497.14329444, 3254661.25402047, 3096875.92839648,\n",
       "       3239982.77858542, 2907161.15421624, 3255509.52487149,\n",
       "       3255303.94339166, 2932000.65597651, 3160269.84840884,\n",
       "       3229138.76486922, 3052814.1991121 , 3146077.73543752,\n",
       "       3238008.58368916, 2932447.81351747, 3250838.94570367,\n",
       "       3237341.81753055, 2823889.28723256, 3230129.35911135,\n",
       "       3256705.17256904, 3242248.83288575, 3250212.27003679,\n",
       "       3117816.42969142, 3248843.40790108, 3081063.68392506,\n",
       "       3247701.52407555, 2999963.21680486, 3257252.39891884,\n",
       "       3257171.46364796, 3236824.18727152, 3247736.84265538,\n",
       "       3257245.63395589, 3256470.6992018 , 3109768.00166188,\n",
       "       3074967.77094473, 3248308.60728381, 3118983.17507481,\n",
       "       3257252.78975285, 3252417.36710431, 3257207.19996692,\n",
       "       3255523.93025404, 3215046.98026065, 3246802.04530267,\n",
       "       3229568.55651585, 3236428.11206535, 3235335.93535894,\n",
       "       3192939.43983143, 3257185.48607969, 3256056.26191753,\n",
       "       3256113.68765877, 2953977.13182963, 3257249.84173911,\n",
       "       3200228.14696141, 3243683.54723788, 3195010.14965155,\n",
       "       3254598.45366777, 3252875.1804818 , 3242690.17245007,\n",
       "       3247077.56978803, 3237887.87234639, 3227916.54674791,\n",
       "       3025471.9144864 , 3255206.0546536 , 3250637.8025165 ,\n",
       "       3255768.67787464, 3243723.70903927, 3226968.00444319,\n",
       "       3233017.42287736, 3226937.64470099, 3252376.01295886,\n",
       "       3256997.43537049, 3254183.31009052, 3246934.02901494,\n",
       "       3235152.40927285, 3222400.41833445, 3021270.24079523,\n",
       "       3251533.57231824, 2927853.67658048, 3209163.21176254,\n",
       "       3255178.06153556, 3119889.30341955, 2853416.16844861,\n",
       "       3250182.71661966, 3257137.38550736, 3121631.56997189,\n",
       "       3051453.34930531, 3257176.66199574, 3228499.5624661 ,\n",
       "       3084613.37227556, 3250051.08803602, 3220515.21719063,\n",
       "       3069038.67237841, 3254988.13256764, 3247122.73882252,\n",
       "       2975417.13375369, 3192616.60266058, 3239133.40039685,\n",
       "       3237232.84981683, 3191744.35011629, 3237336.32321892,\n",
       "       3217770.01408339, 3244302.87772516, 3252163.68365414,\n",
       "       3210251.92556841, 3084766.37689966, 3240716.92067192,\n",
       "       3073835.61358515, 3234926.69195144, 3252129.8799911 ,\n",
       "       2985700.34083191, 2848215.47545701, 3256271.33987889,\n",
       "       3233841.3241791 , 3180825.76530211, 3252686.69858125,\n",
       "       3248774.19528202, 2822735.67588009, 3219959.26645448,\n",
       "       3230204.53263842, 3152298.04377242, 3255153.69740743,\n",
       "       3214287.14121766, 2908509.54956231, 3202481.16025371,\n",
       "       3255185.16781624, 3036434.84048092, 3240231.61473053,\n",
       "       3237635.35946108, 3257178.68956409, 3241037.03574956,\n",
       "       3255247.76031482, 2945948.59185176, 2823680.53675248,\n",
       "       3207088.7151533 , 3256301.72118011, 3193946.16489133,\n",
       "       3192103.98773987, 2884540.23262838, 3256701.06910942,\n",
       "       3236546.54240508, 3257078.34997137, 2982864.21408056,\n",
       "       3256324.09601922, 3252756.33078607, 3250542.17333068])"
      ]
     },
     "execution_count": 174,
     "metadata": {},
     "output_type": "execute_result"
    }
   ],
   "source": [
    "A"
   ]
  },
  {
   "cell_type": "markdown",
   "metadata": {},
   "source": [
    "### テスト"
   ]
  },
  {
   "cell_type": "code",
   "execution_count": 169,
   "metadata": {},
   "outputs": [],
   "source": [
    "def pred_KR(test, train,A):\n",
    "    basis = np.concatenate((np.ones(len(test))[np.newaxis, :],\n",
    "                np.exp(-distance.cdist(train, test)**2/2/sigma**2)))\n",
    "    y = np.dot(A, basis)\n",
    "    return(y)"
   ]
  },
  {
   "cell_type": "code",
   "execution_count": 170,
   "metadata": {
    "collapsed": true
   },
   "outputs": [
    {
     "data": {
      "text/plain": [
       "array([6.06658861e+08, 5.97995691e+08, 6.06860129e+08, 6.23729449e+08,\n",
       "       6.12351197e+08, 5.71083008e+08, 6.25932968e+08, 6.14972366e+08,\n",
       "       5.88498751e+08, 6.09389753e+08, 6.10755584e+08, 6.05054470e+08,\n",
       "       5.87353607e+08, 6.09708837e+08, 6.03712885e+08, 6.20116096e+08,\n",
       "       5.62605908e+08, 5.73099829e+08, 5.97900303e+08, 6.17837995e+08,\n",
       "       6.08121298e+08, 5.65570217e+08, 6.18774395e+08, 6.00274855e+08,\n",
       "       6.19662995e+08, 6.17017941e+08, 5.93352192e+08, 6.10017572e+08,\n",
       "       6.11937328e+08, 6.13802034e+08, 6.16214524e+08, 6.19118234e+08,\n",
       "       6.19760110e+08, 6.19057869e+08, 5.85253159e+08, 5.98861452e+08,\n",
       "       6.05183273e+08, 6.10449022e+08, 6.02508554e+08, 6.00522800e+08,\n",
       "       6.06482026e+08, 6.22339679e+08, 6.13078247e+08, 5.98333761e+08,\n",
       "       5.92521217e+08, 6.05494061e+08, 5.82192897e+08, 5.99216541e+08,\n",
       "       5.76412504e+08, 5.70106042e+08, 6.17173110e+08, 6.21684595e+08,\n",
       "       5.94729916e+08, 6.17618384e+08, 6.08476557e+08, 5.91017955e+08,\n",
       "       5.93208908e+08, 5.61215762e+08, 5.84339705e+08, 5.81077573e+08,\n",
       "       6.14206218e+08, 5.81724698e+08, 6.15444386e+08, 6.20645943e+08,\n",
       "       5.75578155e+08, 5.97540705e+08, 5.98322947e+08, 6.06171036e+08,\n",
       "       6.11765800e+08, 5.99044039e+08, 5.94752228e+08, 6.04302298e+08,\n",
       "       5.80269642e+08, 6.10563777e+08, 6.22042539e+08, 5.97846274e+08,\n",
       "       6.14725072e+08, 6.02049620e+08, 6.24278094e+08, 6.24041122e+08,\n",
       "       5.98099935e+08, 6.14723228e+08, 6.06199572e+08, 5.83555109e+08,\n",
       "       6.05458869e+08, 6.03191384e+08, 6.06522821e+08, 6.11344987e+08,\n",
       "       5.45010253e+08, 6.08748547e+08, 6.04037015e+08, 6.18747151e+08,\n",
       "       6.10314227e+08, 5.92788720e+08, 6.16321766e+08, 5.86997165e+08,\n",
       "       6.13494462e+08, 6.18383749e+08, 5.99240301e+08, 6.11357788e+08,\n",
       "       5.91404985e+08, 6.21248732e+08, 5.99684468e+08, 5.51155180e+08,\n",
       "       5.96336702e+08, 5.94819454e+08, 6.11416513e+08, 6.22814462e+08,\n",
       "       6.13465467e+08, 6.20655408e+08, 6.08039295e+08, 5.90555268e+08,\n",
       "       5.99602416e+08, 6.03601234e+08, 6.02512737e+08, 5.98367064e+08,\n",
       "       6.17578122e+08, 6.06038533e+08, 5.72909527e+08, 6.20802312e+08,\n",
       "       6.20839575e+08, 6.16279557e+08, 6.09348368e+08, 5.99898801e+08,\n",
       "       5.87643824e+08, 6.06375036e+08, 5.90222174e+08, 6.09023731e+08,\n",
       "       5.94543925e+08, 6.08237107e+08, 6.13058211e+08, 6.22490226e+08,\n",
       "       6.11098175e+08, 6.01924765e+08, 5.87436435e+08, 5.86065972e+08,\n",
       "       6.00257007e+08, 5.78085816e+08, 5.84570852e+08, 6.05656161e+08,\n",
       "       6.19959152e+08, 6.14680857e+08, 5.93441482e+08, 5.91576330e+08,\n",
       "       6.02299084e+08, 5.96692296e+08, 6.18943892e+08, 5.99359306e+08,\n",
       "       6.09872165e+08, 5.97386703e+08, 6.03994263e+08, 6.03834610e+08,\n",
       "       6.19110563e+08, 6.25467109e+08, 6.08719441e+08, 6.09486584e+08,\n",
       "       5.89459282e+08, 6.12306231e+08, 5.75361943e+08, 6.05474468e+08,\n",
       "       6.06996116e+08, 6.06917672e+08, 6.14774704e+08, 5.97423423e+08,\n",
       "       5.81063423e+08, 6.06424390e+08, 5.94266978e+08, 6.13623232e+08,\n",
       "       6.03602721e+08, 6.03300903e+08, 6.15619389e+08, 6.08935783e+08,\n",
       "       6.04572986e+08, 6.03928662e+08, 5.90162703e+08, 5.74631602e+08,\n",
       "       6.05327247e+08, 6.13605801e+08, 5.95214555e+08, 6.03313307e+08,\n",
       "       6.10764817e+08, 5.97204150e+08, 5.76097179e+08, 6.09131895e+08,\n",
       "       6.16600354e+08, 6.21487775e+08, 6.10998922e+08, 6.22728115e+08,\n",
       "       6.05992006e+08, 5.89570590e+08, 5.80189898e+08, 6.06513023e+08,\n",
       "       6.02242173e+08, 5.94566246e+08, 6.02792920e+08, 6.24587679e+08,\n",
       "       6.13399340e+08, 6.16379975e+08, 6.03325799e+08, 6.16585671e+08,\n",
       "       6.24028042e+08, 6.03847546e+08, 6.25737791e+08, 6.18638230e+08,\n",
       "       6.20872036e+08, 6.15307373e+08, 6.23113627e+08, 5.97081986e+08,\n",
       "       6.16828445e+08, 6.17809022e+08, 6.20758582e+08, 6.24636829e+08,\n",
       "       6.16280317e+08, 5.88679161e+08, 6.12404559e+08, 6.23157141e+08,\n",
       "       6.19495596e+08, 6.22406313e+08, 6.03259332e+08, 6.13219223e+08,\n",
       "       6.01897671e+08, 6.15892512e+08, 6.16502696e+08, 6.10576384e+08,\n",
       "       6.20677283e+08, 5.88508123e+08, 6.00593687e+08, 5.94133228e+08,\n",
       "       6.00637072e+08, 6.24029009e+08, 5.90323586e+08, 6.19400941e+08,\n",
       "       5.97868827e+08, 6.18937756e+08, 6.08485355e+08, 6.04938451e+08,\n",
       "       6.24793956e+08, 5.98118942e+08, 6.20101519e+08, 6.17965685e+08,\n",
       "       6.23486518e+08, 6.12436570e+08, 6.13965500e+08, 6.16854241e+08,\n",
       "       6.18563375e+08, 6.07554472e+08, 6.16529056e+08, 5.77298894e+08,\n",
       "       5.94736615e+08, 6.22513305e+08, 6.25877535e+08, 6.15632532e+08,\n",
       "       6.10198938e+08, 5.91496481e+08, 6.23237832e+08, 6.13791065e+08,\n",
       "       6.21170814e+08, 6.15474023e+08, 6.00357556e+08, 6.25951659e+08,\n",
       "       6.07151723e+08, 6.18001730e+08, 6.10077749e+08, 6.05447453e+08,\n",
       "       6.21826711e+08, 6.15578772e+08, 6.19218247e+08, 6.23768529e+08,\n",
       "       6.25841926e+08, 6.24407113e+08, 6.00251507e+08, 5.86785167e+08,\n",
       "       6.25714849e+08, 6.06566422e+08, 6.01058969e+08, 6.12985625e+08,\n",
       "       6.16473105e+08, 6.11605867e+08, 6.12562687e+08, 6.11273112e+08,\n",
       "       6.08512175e+08, 6.06896614e+08, 5.98940795e+08, 6.09019366e+08,\n",
       "       6.07126623e+08, 6.10682362e+08, 5.99096042e+08, 6.25338876e+08,\n",
       "       6.02284453e+08, 6.12836089e+08, 5.90001323e+08, 6.19605160e+08,\n",
       "       6.21593881e+08, 6.05729615e+08, 5.75361610e+08, 6.23839971e+08,\n",
       "       6.25944306e+08, 6.14226703e+08, 6.20407805e+08, 6.23971283e+08,\n",
       "       6.20846537e+08, 5.99487467e+08, 6.18405453e+08, 6.21314862e+08,\n",
       "       6.12628933e+08, 6.24994526e+08, 6.18105943e+08, 6.18467901e+08,\n",
       "       6.21017523e+08, 6.22886279e+08, 6.18314501e+08, 6.17739829e+08,\n",
       "       6.00054530e+08, 6.19295878e+08, 6.22858078e+08, 6.15947941e+08,\n",
       "       6.07733530e+08, 6.04255684e+08, 6.16888147e+08, 6.20865220e+08,\n",
       "       6.13040929e+08, 6.03732008e+08, 6.16437626e+08, 5.89328346e+08,\n",
       "       6.17448113e+08, 6.20971815e+08, 5.97873953e+08, 6.16531273e+08,\n",
       "       6.15271281e+08, 6.20588307e+08, 6.12740658e+08, 6.21800055e+08,\n",
       "       6.07753731e+08, 6.14640395e+08, 5.96517168e+08, 6.18795305e+08,\n",
       "       6.13439241e+08, 6.19097642e+08, 6.21659820e+08, 5.95909541e+08,\n",
       "       6.08643585e+08, 6.10951052e+08, 6.21412092e+08, 6.11155201e+08,\n",
       "       5.90444023e+08, 6.21883422e+08, 6.19496613e+08, 6.20843631e+08,\n",
       "       5.98399112e+08, 6.25942297e+08, 6.18617596e+08, 6.10238391e+08,\n",
       "       6.16010159e+08, 6.00347065e+08, 5.84817441e+08, 6.17963139e+08,\n",
       "       6.04574046e+08, 6.25955603e+08, 5.84583429e+08, 5.92215718e+08,\n",
       "       6.18521759e+08, 6.12958618e+08, 5.99882065e+08, 6.09622532e+08,\n",
       "       5.78662432e+08, 6.09501175e+08, 6.16757449e+08, 6.05095249e+08,\n",
       "       6.04656141e+08, 6.10620928e+08, 6.06788031e+08, 6.12019570e+08,\n",
       "       6.22666166e+08, 6.06143007e+08, 6.00171378e+08, 6.20469863e+08,\n",
       "       5.98617047e+08, 6.18749769e+08, 6.22893655e+08, 6.00599187e+08,\n",
       "       6.20038994e+08, 5.86396496e+08, 5.87979067e+08, 6.13517296e+08,\n",
       "       6.07789149e+08, 6.10745282e+08, 6.02385583e+08, 6.20352831e+08,\n",
       "       6.10634273e+08, 6.09467050e+08, 6.15019059e+08, 6.24613695e+08,\n",
       "       6.07688175e+08, 6.20180155e+08, 5.93929225e+08, 6.05722761e+08,\n",
       "       6.17809449e+08, 6.09107205e+08, 6.10484918e+08, 6.17320514e+08])"
      ]
     },
     "execution_count": 170,
     "metadata": {},
     "output_type": "execute_result"
    }
   ],
   "source": [
    "pred_KR(test, train, A)"
   ]
  },
  {
   "cell_type": "markdown",
   "metadata": {},
   "source": [
    "# RuLSIFでの重み付け\n",
    "*Relative unconstrained least-squares importance fitting*の略。重みをカーネル関数の足し合わせ(係数未知)として、この係数を真の相対重要度（密度比）との２乗誤差を最小化するという学習基準に基づいて学習する。二乗誤差を学習基準にすることで、ロバストな重み付が学習できるそう(杉山先生の資料(2013)より)\n",
    "\n",
    "実装は[こちら](http://allmodelsarewrong.org/RuLSIF.html)を拝借している\n",
    "\n",
    "密度比推定の論文は、求めているものは密度比$\\frac{p_{test}(x)}{p_{train}(x)}$になるので, entropy estimatorでの重みの総和1制約のようなものは存在しない"
   ]
  },
  {
   "cell_type": "markdown",
   "metadata": {},
   "source": [
    "### コードの追試（１次元での密度比推定）"
   ]
  },
  {
   "cell_type": "code",
   "execution_count": 8,
   "metadata": {},
   "outputs": [],
   "source": [
    "from pyRULSIF import *\n",
    "from pylab import *"
   ]
  },
  {
   "cell_type": "code",
   "execution_count": 15,
   "metadata": {},
   "outputs": [],
   "source": [
    "# x_nu: samples from numerator(test data)\n",
    "# x_de: samples from denominator(train data)\n",
    "# x_re: reference sample\n",
    "# alpha: alpha defined in relative density ratio\n",
    "# sigma_list, lambda_list: parameters for model selection\n",
    "# b: number of kernel basis\n",
    "# fold: number of fold for cross validation"
   ]
  },
  {
   "cell_type": "code",
   "execution_count": 9,
   "metadata": {},
   "outputs": [],
   "source": [
    "np.random.seed(1)\n",
    "# generate data.\n",
    "x_nu = randn(1, 50)*.25 - 1\n",
    "x_de = randn(1, 100)*.5\n",
    "x_re = array([arange(-1.5, 1.5, .05)])"
   ]
  },
  {
   "cell_type": "code",
   "execution_count": 10,
   "metadata": {},
   "outputs": [],
   "source": [
    "# using normal ULSIF, which is RULSIF with alpha = 0.\n",
    "alpha = 0\n",
    "PE, w, s = R_ULSIF(x_nu, x_de, c_[x_re, x_nu, x_de], alpha,\n",
    "                   sigma_list(x_nu, x_de), lambda_list(), x_nu.shape[1], 5)"
   ]
  },
  {
   "cell_type": "code",
   "execution_count": 11,
   "metadata": {},
   "outputs": [
    {
     "data": {
      "image/png": "[encoded data removed]",
      "text/plain": [
       "<matplotlib.figure.Figure at 0x1117629e8>"
      ]
     },
     "metadata": {},
     "output_type": "display_data"
    },
    {
     "name": "stdout",
     "output_type": "stream",
     "text": [
      "alpha =  0\n",
      "divergence =  19.84959541447472\n"
     ]
    }
   ],
   "source": [
    "# plotting with true density ratio\n",
    "w_re = w[0:x_re.shape[1]]\n",
    "plot(x_re.T, w_re, label='r_{hat}(x)', linewidth=2.5, color='red')\n",
    "w_nu = w[x_re.shape[1]:x_re.shape[1]+x_nu.shape[1]]\n",
    "scatter(x_nu, w_nu, label='x_nu', color='green', facecolors='none', s=100)\n",
    "w_de = w[x_re.shape[1]+x_nu.shape[1]:]\n",
    "scatter(x_de, w_de, label='x_de', color='magenta', facecolors='none', s=100)\n",
    "\n",
    "x_disp = linspace(-1.5, 1.5, 100)\n",
    "plot(x_disp, norm_pdf(x_disp, -1, .25)/norm_pdf(x_disp, 0, .5),\n",
    "     linewidth=2.5, label='r(x)', color='blue')\n",
    "legend()\n",
    "show()\n",
    "\n",
    "print('alpha = ', alpha)\n",
    "print('divergence = ', PE)"
   ]
  },
  {
   "cell_type": "markdown",
   "metadata": {},
   "source": [
    "### 2次元以上でもRuLSIFがworkするか確認"
   ]
  },
  {
   "cell_type": "code",
   "execution_count": 12,
   "metadata": {},
   "outputs": [],
   "source": [
    "np.random.seed(123)\n",
    "x = np.random.multivariate_normal(mean = [0,0], cov = [[1,0],[0,1]], size = 300)\n",
    "y = np.random.multivariate_normal(mean = [1.5,1.5], cov = [[1,0],[0,1]], size = 100)"
   ]
  },
  {
   "cell_type": "code",
   "execution_count": 13,
   "metadata": {},
   "outputs": [],
   "source": [
    "x_re_2d = np.concatenate((np.linspace(-4,4,500)[:,np.newaxis], np.linspace(-4,4,500)[:,np.newaxis]), axis = 1)"
   ]
  },
  {
   "cell_type": "code",
   "execution_count": 14,
   "metadata": {},
   "outputs": [],
   "source": [
    "PE, w, s = R_ULSIF(y.T, x.T, c_[x_re_2d.T, y.T, x.T], alpha,\n",
    "                   sigma_list(x_nu, x_de), lambda_list(), x_nu.shape[1], 5)"
   ]
  },
  {
   "cell_type": "code",
   "execution_count": 15,
   "metadata": {},
   "outputs": [
    {
     "data": {
      "text/plain": [
       "[<matplotlib.lines.Line2D at 0x11207ca90>]"
      ]
     },
     "execution_count": 15,
     "metadata": {},
     "output_type": "execute_result"
    },
    {
     "data": {
      "image/png": "[encoded data removed]",
      "text/plain": [
       "<matplotlib.figure.Figure at 0x11207c9b0>"
      ]
     },
     "metadata": {},
     "output_type": "display_data"
    }
   ],
   "source": [
    "plt.scatter(x[:,0], x[:,1],  s = w[600:900]*10)\n",
    "plt.plot(y[:,0], y[:,1], 'ro')"
   ]
  },
  {
   "cell_type": "markdown",
   "metadata": {},
   "source": [
    "いけますた"
   ]
  }
 ],
 "metadata": {
  "kernelspec": {
   "display_name": "Python 3",
   "language": "python",
   "name": "python3"
  },
  "language_info": {
   "codemirror_mode": {
    "name": "ipython",
    "version": 3
   },
   "file_extension": ".py",
   "mimetype": "text/x-python",
   "name": "python",
   "nbconvert_exporter": "python",
   "pygments_lexer": "ipython3",
   "version": "3.6.5"
  },
  "toc": {
   "base_numbering": 1,
   "nav_menu": {},
   "number_sections": true,
   "sideBar": true,
   "skip_h1_title": false,
   "title_cell": "Table of Contents",
   "title_sidebar": "Contents",
   "toc_cell": false,
   "toc_position": {},
   "toc_section_display": true,
   "toc_window_display": true
  },
  "varInspector": {
   "cols": {
    "lenName": 16,
    "lenType": 16,
    "lenVar": 40
   },
   "kernels_config": {
    "python": {
     "delete_cmd_postfix": "",
     "delete_cmd_prefix": "del ",
     "library": "var_list.py",
     "varRefreshCmd": "print(var_dic_list())"
    },
    "r": {
     "delete_cmd_postfix": ") ",
     "delete_cmd_prefix": "rm(",
     "library": "var_list.r",
     "varRefreshCmd": "cat(var_dic_list()) "
    }
   },
   "types_to_exclude": [
    "module",
    "function",
    "builtin_function_or_method",
    "instance",
    "_Feature"
   ],
   "window_display": false
  }
 },
 "nbformat": 4,
 "nbformat_minor": 2
}
